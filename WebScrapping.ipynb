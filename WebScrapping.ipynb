{
 "cells": [
  {
   "cell_type": "markdown",
   "metadata": {},
   "source": [
    "# Projet Chatbot\n",
    "## Emilie Longuevre / Léna Nock / Valentine Carteron"
   ]
  },
  {
   "cell_type": "markdown",
   "metadata": {},
   "source": [
    "### 1. Importation des packages"
   ]
  },
  {
   "cell_type": "code",
   "execution_count": 1,
   "metadata": {},
   "outputs": [],
   "source": [
    "import requests\n",
    "from bs4 import BeautifulSoup, Tag, NavigableString\n",
    "from urllib.error import HTTPError, URLError\n",
    "from urllib.request import urlopen\n",
    "import pickle\n",
    "import pandas as pd"
   ]
  },
  {
   "cell_type": "code",
   "execution_count": 2,
   "metadata": {},
   "outputs": [],
   "source": [
    "#site surlequel on réalise le webscrapping: Foire aux questions de la page Vinted\n",
    "site = \"https://www.vinted.fr/help\"\n",
    "# commande pour accéder aux données \n",
    "response = requests.get(site)"
   ]
  },
  {
   "cell_type": "markdown",
   "metadata": {},
   "source": [
    "### 2. Récupérer toutes les urls des catégories du centre d'aide \n",
    "On récupère les urls des neuf catégories du centre d'aide."
   ]
  },
  {
   "cell_type": "code",
   "execution_count": 3,
   "metadata": {},
   "outputs": [
    {
     "data": {
      "text/plain": [
       "['https://www.vinted.fr/help/16-comment-ca-marche',\n",
       " 'https://www.vinted.fr/help/4-vendre',\n",
       " 'https://www.vinted.fr/help/5-acheter',\n",
       " 'https://www.vinted.fr/help/313-envoi',\n",
       " 'https://www.vinted.fr/help/418-paiements-et-transferts',\n",
       " 'https://www.vinted.fr/help/15-confiance-et-securite',\n",
       " 'https://www.vinted.fr/help/392-mon-compte-parametres',\n",
       " 'https://www.vinted.fr/help/383-communaute',\n",
       " 'https://www.vinted.fr/help/103-se-connecter']"
      ]
     },
     "execution_count": 3,
     "metadata": {},
     "output_type": "execute_result"
    }
   ],
   "source": [
    "urls_categorie1 = []\n",
    "href = (BeautifulSoup(response.text)\n",
    "          .select(\"html body div.site div.container div.faq div.faq__categories a.faq__category\"))\n",
    "for ref in href :\n",
    "    urls_categorie1.append(\"https://www.vinted.fr\" + ref.get('href'))\n",
    "urls_categorie1"
   ]
  },
  {
   "cell_type": "markdown",
   "metadata": {},
   "source": [
    "On enregistre cette liste au format .txt pour conserver une trace de ces urls."
   ]
  },
  {
   "cell_type": "code",
   "execution_count": 6,
   "metadata": {},
   "outputs": [],
   "source": [
    "# with open('urls_categorie1.txt', 'w') as f:\n",
    "#     for url in urls:\n",
    "#         f.write(f'{url}\\n')\n",
    "\n",
    "# urls = open(\"urls_categorie1.txt\", \"r\")\n",
    "# urls = urls.read().split(\"\\n\")\n",
    "# urls = urls[:-1]\n",
    "# urls"
   ]
  },
  {
   "cell_type": "markdown",
   "metadata": {},
   "source": [
    "Pour accéder aux réponses on doit passer par des sous-catégories de question. On va donc récupérer l'ensemble des urls menant aux réponses. On créé donc une fonction afin d'optimiser le code. Au maximum, on a trois sous catégories, donc on lance la fonction 'récupération_url' trois fois."
   ]
  },
  {
   "cell_type": "code",
   "execution_count": 15,
   "metadata": {},
   "outputs": [],
   "source": [
    "def recuperation_url(urls) :\n",
    "    urls_categorie_sup = []\n",
    "    n=0\n",
    "    for url in urls : \n",
    "        n+=1\n",
    "        # on précise l'url qu'on va explorer\n",
    "        response = requests.get(url)\n",
    "        # on sélectionne les liens présents dans ces pages\n",
    "        href = (BeautifulSoup(response.text)\n",
    "                  .select(\"html body div.site div.container div.faq a.c-cell__link\"))\n",
    "        # s'il y a une sous catégorie:\n",
    "        if href != [] :\n",
    "            for ref in href :\n",
    "                # on ajoute l'url qui suit dans la liste des catégories supérieurs\n",
    "                urls_categorie_sup.append(\"https://www.vinted.fr\" + ref.get('href'))\n",
    "        # s'il n'y a pas de sous catégories:\n",
    "        else : \n",
    "            # on ajoute l'url actuel\n",
    "            urls_categorie_sup.append(url)\n",
    "        print(n)\n",
    "    return urls_categorie_sup"
   ]
  },
  {
   "cell_type": "code",
   "execution_count": 9,
   "metadata": {},
   "outputs": [],
   "source": [
    "urls_categorie2 = recuperation_url(urls_categorie1)"
   ]
  },
  {
   "cell_type": "code",
   "execution_count": 17,
   "metadata": {},
   "outputs": [
    {
     "data": {
      "text/plain": [
       "52"
      ]
     },
     "execution_count": 17,
     "metadata": {},
     "output_type": "execute_result"
    }
   ],
   "source": [
    "len(urls_categorie2)"
   ]
  },
  {
   "cell_type": "code",
   "execution_count": 17,
   "metadata": {},
   "outputs": [],
   "source": [
    "# with open('urls_nv2.txt', 'w') as f:\n",
    "#     for url in urls_nv_2:\n",
    "#         f.write(f'{url}\\n')\n",
    "\n",
    "# urls_nv_2 = open(\"urls_nv2.txt\", \"r\")\n",
    "# urls_nv_2 = urls_nv_2.read().split(\"\\n\")\n",
    "# urls_nv_2 = urls_nv_2[:-1]"
   ]
  },
  {
   "cell_type": "code",
   "execution_count": 21,
   "metadata": {},
   "outputs": [
    {
     "name": "stdout",
     "output_type": "stream",
     "text": [
      "1\n",
      "2\n",
      "3\n",
      "4\n",
      "5\n",
      "6\n",
      "7\n",
      "8\n",
      "9\n",
      "10\n",
      "11\n",
      "12\n",
      "13\n",
      "14\n",
      "15\n",
      "16\n",
      "17\n",
      "18\n",
      "19\n",
      "20\n",
      "21\n",
      "22\n",
      "23\n",
      "24\n",
      "25\n",
      "26\n",
      "27\n",
      "28\n",
      "29\n",
      "30\n",
      "31\n",
      "32\n",
      "33\n",
      "34\n",
      "35\n",
      "36\n",
      "37\n",
      "38\n",
      "39\n",
      "40\n",
      "41\n",
      "42\n",
      "43\n",
      "44\n",
      "45\n",
      "46\n",
      "47\n",
      "48\n",
      "49\n",
      "50\n",
      "51\n",
      "52\n"
     ]
    },
    {
     "data": {
      "text/plain": [
       "216"
      ]
     },
     "execution_count": 21,
     "metadata": {},
     "output_type": "execute_result"
    }
   ],
   "source": [
    "urls_categorie3 = recuperation_url(urls_categorie2)\n",
    "len(urls_categorie3)"
   ]
  },
  {
   "cell_type": "code",
   "execution_count": 24,
   "metadata": {},
   "outputs": [],
   "source": [
    "# with open('urls_nv3.txt', 'w') as f:\n",
    "#     for url in url_nv3:\n",
    "#         f.write(f'{url}\\n')\n",
    "\n",
    "# urls_nv3 = open(\"urls_nv3.txt\", \"r\")\n",
    "# urls_nv3 = urls_nv3.read().split(\"\\n\")\n",
    "# urls_nv3 = urls_nv3[:-1]"
   ]
  },
  {
   "cell_type": "code",
   "execution_count": 22,
   "metadata": {},
   "outputs": [
    {
     "name": "stdout",
     "output_type": "stream",
     "text": [
      "1\n",
      "2\n",
      "3\n",
      "4\n",
      "5\n",
      "6\n",
      "7\n",
      "8\n",
      "9\n",
      "10\n",
      "11\n",
      "12\n",
      "13\n",
      "14\n",
      "15\n",
      "16\n",
      "17\n",
      "18\n",
      "19\n",
      "20\n",
      "21\n",
      "22\n",
      "23\n",
      "24\n",
      "25\n",
      "26\n",
      "27\n",
      "28\n",
      "29\n",
      "30\n",
      "31\n",
      "32\n",
      "33\n",
      "34\n",
      "35\n",
      "36\n",
      "37\n",
      "38\n",
      "39\n",
      "40\n",
      "41\n",
      "42\n",
      "43\n",
      "44\n",
      "45\n",
      "46\n",
      "47\n",
      "48\n",
      "49\n",
      "50\n",
      "51\n",
      "52\n",
      "53\n",
      "54\n",
      "55\n",
      "56\n",
      "57\n",
      "58\n",
      "59\n",
      "60\n",
      "61\n",
      "62\n",
      "63\n",
      "64\n",
      "65\n",
      "66\n",
      "67\n",
      "68\n",
      "69\n",
      "70\n",
      "71\n",
      "72\n",
      "73\n",
      "74\n",
      "75\n",
      "76\n",
      "77\n",
      "78\n",
      "79\n",
      "80\n",
      "81\n",
      "82\n",
      "83\n",
      "84\n",
      "85\n",
      "86\n",
      "87\n",
      "88\n",
      "89\n",
      "90\n",
      "91\n",
      "92\n",
      "93\n",
      "94\n",
      "95\n",
      "96\n",
      "97\n",
      "98\n",
      "99\n",
      "100\n",
      "101\n",
      "102\n",
      "103\n",
      "104\n",
      "105\n",
      "106\n",
      "107\n",
      "108\n",
      "109\n",
      "110\n",
      "111\n",
      "112\n",
      "113\n",
      "114\n",
      "115\n",
      "116\n",
      "117\n",
      "118\n",
      "119\n",
      "120\n",
      "121\n",
      "122\n",
      "123\n",
      "124\n",
      "125\n",
      "126\n",
      "127\n",
      "128\n",
      "129\n",
      "130\n",
      "131\n",
      "132\n",
      "133\n",
      "134\n",
      "135\n",
      "136\n",
      "137\n",
      "138\n",
      "139\n",
      "140\n",
      "141\n",
      "142\n",
      "143\n",
      "144\n",
      "145\n",
      "146\n",
      "147\n",
      "148\n",
      "149\n",
      "150\n",
      "151\n",
      "152\n",
      "153\n",
      "154\n",
      "155\n",
      "156\n",
      "157\n",
      "158\n",
      "159\n",
      "160\n",
      "161\n",
      "162\n",
      "163\n",
      "164\n",
      "165\n",
      "166\n",
      "167\n",
      "168\n",
      "169\n",
      "170\n",
      "171\n",
      "172\n",
      "173\n",
      "174\n",
      "175\n",
      "176\n",
      "177\n",
      "178\n",
      "179\n",
      "180\n",
      "181\n",
      "182\n",
      "183\n",
      "184\n",
      "185\n",
      "186\n",
      "187\n",
      "188\n",
      "189\n",
      "190\n",
      "191\n",
      "192\n",
      "193\n",
      "194\n",
      "195\n",
      "196\n",
      "197\n",
      "198\n",
      "199\n",
      "200\n",
      "201\n",
      "202\n",
      "203\n",
      "204\n",
      "205\n",
      "206\n",
      "207\n",
      "208\n",
      "209\n",
      "210\n",
      "211\n",
      "212\n",
      "213\n",
      "214\n",
      "215\n",
      "216\n"
     ]
    },
    {
     "data": {
      "text/plain": [
       "221"
      ]
     },
     "execution_count": 22,
     "metadata": {},
     "output_type": "execute_result"
    }
   ],
   "source": [
    "urls_categorie4 = recuperation_url(urls_categorie3)\n",
    "len(urls_categorie4)"
   ]
  },
  {
   "cell_type": "code",
   "execution_count": 28,
   "metadata": {},
   "outputs": [],
   "source": [
    "# with open('urls_nv4.txt', 'w') as f:\n",
    "#     for url in url_nv4:\n",
    "#         f.write(f'{url}\\n')\n",
    "\n",
    "# url_nv4 = open(\"urls_nv4.txt\", \"r\")\n",
    "# url_nv4 = url_nv4.read().split(\"\\n\")\n",
    "# url_nv4 = url_nv4[:-1]"
   ]
  },
  {
   "cell_type": "code",
   "execution_count": null,
   "metadata": {},
   "outputs": [],
   "source": [
    "urls_categorie4"
   ]
  },
  {
   "cell_type": "markdown",
   "metadata": {},
   "source": [
    "### 3. Récupérer les réponses associés aux urls des questions"
   ]
  },
  {
   "cell_type": "code",
   "execution_count": 14,
   "metadata": {},
   "outputs": [],
   "source": [
    "# demander valentine \n",
    "def ValidTag(monTag):\n",
    "    if type(monTag) == Tag and monTag.has_attr(\"class\"):\n",
    "        if ' '.join(monTag.attrs[\"class\"]) in ['tab-content', 'nav-tabs-horizontal', '“table-wrapper”']:\n",
    "            return False\n",
    "    return True"
   ]
  },
  {
   "cell_type": "code",
   "execution_count": null,
   "metadata": {},
   "outputs": [],
   "source": []
  },
  {
   "cell_type": "code",
   "execution_count": 15,
   "metadata": {},
   "outputs": [],
   "source": [
    "def getSelectedText(monTag):\n",
    "    texte = []\n",
    "    for child in monTag.children :\n",
    "        if type(child) == NavigableString :\n",
    "            if (child.string).strip() != '' and (child.string).strip() != ' ' :\n",
    "                texte.append( \" \" + (child.string).strip() )\n",
    "                \n",
    "        ## Récupération des tableaux\n",
    "        if type(child) == Tag and child.has_attr(\"class\") and ' '.join(child.attrs[\"class\"]) in ['“table-wrapper”']:\n",
    "            tables = child.findAll('table')\n",
    "\n",
    "\n",
    "            l = []\n",
    "            nbr_valeur_ligne = []\n",
    "            colonne = []\n",
    "        \n",
    "            # pour chaque ligne du tableau:\n",
    "            for i,tr in enumerate(tables[0].findAll('tr')):\n",
    "                # si la ligne contient un 'rowspan' c'est à dire une case pour plusieurs lignes\n",
    "                if 'rowspan' in str(tr) : \n",
    "                    # récupère le numéro de cette ligne\n",
    "                    valeur_depart = i \n",
    "                    # on ajoute à une liste l'ensemble des textes présents sur la ligne\n",
    "                l.append(tr.text.replace('\\n', '|#|'))\n",
    "            # on récupère l'entête du tableau\n",
    "            liste_entete = l[0].split('|#|')\n",
    "            # on supprime les élément vides\n",
    "            while '' in liste_entete : \n",
    "                liste_entete.remove('')\n",
    "                \n",
    "            a_change = []\n",
    "            # on parcourt les lignes du tableaux ayant l'attribut 'td'\n",
    "            for i,td in enumerate(tables[0].findAll('td')) :\n",
    "                # si cet attribut contient un 'rowspan':\n",
    "                if td.has_attr(\"rowspan\") :\n",
    "                    # on récupère le numéro de la colonne correspondant\n",
    "                    num_colonne = i % len(liste_entete) \n",
    "                    # nombre de lignes concernées par cette exception\n",
    "                    nbr_fois_lig = td.attrs['rowspan']\n",
    "                    # valeur correspondante qui doit être recopiée\n",
    "                    valeur_a_ajouter = td.text\n",
    "                    # on récupère l'indice des lignes ayant une valeur manquante\n",
    "                    a_change = [valeur_depart + o for o in range(2,int(nbr_fois_lig)+1)]\n",
    "\n",
    "                    \n",
    "            # création d'un compteur correspondant aux index des lignes        \n",
    "            n = 1 \n",
    "            # pour chaque ligne du tableau (sans le nom des colonnes)\n",
    "            for mot in l[1::] : \n",
    "                n +=1\n",
    "                # on découpe la ligne selon '|#|'\n",
    "                # on obtient une liste contenant l'ensemble des mots de la ligne\n",
    "                ligne = mot.split('|#|') \n",
    "                while '' in ligne : \n",
    "                    ligne.remove('')\n",
    "                # si l'index de la ligne est présent dans la liste à changer\n",
    "                if n in a_change: \n",
    "                    # on ajoute la valeur à ajouter au numéro de colonne correspondant\n",
    "                    ligne[num_colonne:num_colonne] = [valeur_a_ajouter]\n",
    "                # affichage final du tableau\n",
    "                for i in range(0,len(liste_entete)) : \n",
    "                    texte.append( str(liste_entete[i]) +  \" : \" + str(ligne[i]) )\n",
    "                texte.append( '------' )      \n",
    "                \n",
    "        \n",
    "                \n",
    "        if type(child) == Tag and ValidTag(child) and child.name != 'table':\n",
    "            if getSelectedText(child).strip() != '' and getSelectedText(child).strip() != ' ' :\n",
    "                texte.append( getSelectedText(child).strip() )\n",
    "                \n",
    "                \n",
    "        if type(child) == Tag and child.name == 'table':\n",
    "            tables = child.find('table')\n",
    "        \n",
    "            l = []\n",
    "            nbr_valeur_ligne = []\n",
    "            colonne = []\n",
    "        \n",
    "            # pour chaque ligne du tableau:\n",
    "            for i,tr in enumerate([child][0].findAll('tr')):\n",
    "                # si la ligne contient un 'rowspan' c'est à dire une case pour plusieurs lignes\n",
    "                if 'rowspan' in str(tr) : \n",
    "                    # récupère le numéro de cette ligne\n",
    "                    valeur_depart = i \n",
    "                    # on ajoute à une liste l'ensemble des textes présents sur la ligne\n",
    "                l.append(tr.text.replace('\\n', '|#|'))\n",
    "            # on récupère l'entête du tableau\n",
    "            liste_entete = l[0].split('|#|')\n",
    "            # on supprime les élément vides\n",
    "            while '' in liste_entete : \n",
    "                liste_entete.remove('')\n",
    "                \n",
    "            a_change = []\n",
    "            # on parcourt les lignes du tableaux ayant l'attribut 'td'\n",
    "            for i,td in enumerate([child][0].findAll('td')) :\n",
    "                # si cet attribut contient un 'rowspan':\n",
    "                if td.has_attr(\"rowspan\") :\n",
    "                    # on récupère le numéro de la colonne correspondant\n",
    "                    num_colonne = i % len(liste_entete) \n",
    "                    # nombre de lignes concernées par cette exception\n",
    "                    nbr_fois_lig = td.attrs['rowspan']\n",
    "                    # valeur correspondante qui doit être recopiée\n",
    "                    valeur_a_ajouter = td.text\n",
    "                    # on récupère l'indice des lignes ayant une valeur manquante\n",
    "                    a_change = [valeur_depart + o for o in range(2,int(nbr_fois_lig)+1)]\n",
    "\n",
    "                    \n",
    "            # création d'un compteur correspondant aux index des lignes        \n",
    "            n = 1 \n",
    "            # pour chaque ligne du tableau (sans le nom des colonnes)\n",
    "            for mot in l[1::] : \n",
    "                n +=1\n",
    "                # on découpe la ligne selon '|#|'\n",
    "                # on obtient une liste contenant l'ensemble des mots de la ligne\n",
    "                ligne = mot.split('|#|') \n",
    "                while '' in ligne : \n",
    "                    ligne.remove('')\n",
    "                # si l'index de la ligne est présent dans la liste à changer\n",
    "                if n in a_change: \n",
    "                    # on ajoute la valeur à ajouter au numéro de colonne correspondant\n",
    "                    ligne[num_colonne:num_colonne] = [valeur_a_ajouter]\n",
    "                # affichage final du tableau\n",
    "                for i in range(0,len(liste_entete)) : \n",
    "                    texte.append( str(liste_entete[i]) +  \" : \" + str(ligne[i]) )\n",
    "                texte.append( '------' )             \n",
    "        \n",
    "    texte_final = '\\n'.join(texte)\n",
    "    return texte_final"
   ]
  },
  {
   "cell_type": "markdown",
   "metadata": {},
   "source": [
    "On peut donc désormais récupérer l'ensemble des textes qui correspondent aux réponses."
   ]
  },
  {
   "cell_type": "code",
   "execution_count": null,
   "metadata": {},
   "outputs": [
    {
     "name": "stdout",
     "output_type": "stream",
     "text": [
      "https://www.vinted.fr/help/26-vendre-etape-par-etape\n",
      "https://www.vinted.fr/help/25-acheter-sur-vinted-toutes-les-etapes\n",
      "https://www.vinted.fr/help/373-vendre-sur-vinted-c-est-gratuit\n",
      "https://www.vinted.fr/help/356-comment-partager-mon-retour-d-experience-sur-vinted\n",
      "https://www.vinted.fr/help/265-comment-utiliser-le-centre-d-aide\n",
      "https://www.vinted.fr/help/375-ajouter-un-article-etape-par-etape\n",
      "https://www.vinted.fr/help/26-vendre-etape-par-etape\n",
      "https://www.vinted.fr/help/373-vendre-sur-vinted-c-est-gratuit\n",
      "https://www.vinted.fr/help/52-qu-est-ce-que-je-peux-vendre-sur-vinted\n",
      "https://www.vinted.fr/help/220-comment-echanger-un-article\n",
      "https://www.vinted.fr/help/375-ajouter-un-article-etape-par-etape\n",
      "https://www.vinted.fr/help/601-quelles-photos-dois-je-mettre-en-ligne-pour-mes-articles-de-marque\n",
      "https://www.vinted.fr/help/48-comment-prendre-de-bonnes-photos\n",
      "https://www.vinted.fr/help/49-comment-bien-decrire-mon-article\n",
      "https://www.vinted.fr/help/50-comment-choisir-l-etat-de-mon-article\n",
      "https://www.vinted.fr/help/47-comment-selectionner-une-marque\n",
      "https://www.vinted.fr/help/376-comment-fixer-un-bon-prix\n",
      "https://www.vinted.fr/help/51-comment-choisir-le-format-de-mon-colis\n",
      "https://www.vinted.fr/help/257-comment-vendre-un-lot\n",
      "https://www.vinted.fr/help/102-remettre-un-article-en-ligne\n",
      "https://www.vinted.fr/help/421-en-quoi-consistent-les-brouillons-d-articles\n",
      "https://www.vinted.fr/help/57-vends-tes-articles-plus-vite\n",
      "https://www.vinted.fr/help/476-pourquoi-ai-je-besoin-d-abonnes\n",
      "https://www.vinted.fr/help/340-comment-remonter-mes-articles-en-haut-du-catalogue\n",
      "https://www.vinted.fr/help/450-comment-acheter-un-boost\n",
      "https://www.vinted.fr/help/258-comment-faire-une-offre-a-mon-acheteur\n",
      "https://www.vinted.fr/help/452-en-quoi-consiste-dressing-en-vitrine\n",
      "https://www.vinted.fr/help/422-comment-parametrer-des-reductions-sur-mon-catalogue\n",
      "https://www.vinted.fr/help/442-le-vendeur-peut-il-modifier-le-mode-de-livraison\n",
      "https://www.vinted.fr/help/458-qui-paie-les-frais-de-port\n",
      "https://www.vinted.fr/help/65-comment-emballer-mon-article\n",
      "https://www.vinted.fr/help/482-comment-envoyer-l-article\n"
     ]
    }
   ],
   "source": [
    "liste_reponses = []\n",
    "for url in urls_categorie4 :\n",
    "    try :\n",
    "        html = urlopen(url)\n",
    "    except (HTTPError, URLError) as e :\n",
    "        sys.exit(e)\n",
    "    \n",
    "    # On récupère les réponses dans la variable 'liste_reponses'\n",
    "    # On remplace certains codes par leur signification\n",
    "    bsObj = BeautifulSoup(html, \"lxml\")\n",
    "    maDiv = bsObj.find(\"div\", class_=\"site\").find(\"div\", class_=\"body-content\").find(\"div\", class_=\"faq__question-answer faq-content\")\n",
    "    texte = getSelectedText(maDiv).strip().replace('\\xa0', ' ').replace('\\u200b', ' ').replace('\\u2192', ' ').replace('\\u2194', ' ').replace('\\u2028', ' ')\n",
    "    liste_reponses.append(texte)\n",
    "liste_reponses[0:3]"
   ]
  },
  {
   "cell_type": "code",
   "execution_count": 8,
   "metadata": {},
   "outputs": [],
   "source": [
    "# with open('Reponses.txt', 'w') as f:\n",
    "#     for texte in liste_textes:\n",
    "#         f.write(f'{str(texte)}|#|')"
   ]
  },
  {
   "cell_type": "code",
   "execution_count": null,
   "metadata": {},
   "outputs": [],
   "source": [
    "# ajouter le retour à la ligne"
   ]
  },
  {
   "cell_type": "markdown",
   "metadata": {},
   "source": [
    "### 4. Récupérer toutes les questions"
   ]
  },
  {
   "cell_type": "code",
   "execution_count": 4,
   "metadata": {},
   "outputs": [
    {
     "data": {
      "text/plain": [
       "['Comment ça marche',\n",
       " 'Vendre',\n",
       " 'Acheter',\n",
       " 'Envoi',\n",
       " 'Paiements et transferts',\n",
       " 'Confiance et sécurité',\n",
       " 'Mon compte & Paramètres',\n",
       " 'Communauté',\n",
       " 'Se connecter']"
      ]
     },
     "execution_count": 4,
     "metadata": {},
     "output_type": "execute_result"
    }
   ],
   "source": [
    "# On récupère le nom des neuf premières catégories \n",
    "question = (BeautifulSoup(response.text)\n",
    "          .select(\"html body div.site div.container div.faq div.faq__categories  div.faq__category-title\"))\n",
    "\n",
    "liste_categories = []\n",
    "for i in range(0,len(question)) :\n",
    "    liste_categories.append(question[i].text.strip())\n",
    "liste_categories"
   ]
  },
  {
   "cell_type": "markdown",
   "metadata": {},
   "source": [
    "On créé une fonction permettant de récupérer l'ensemble des chemins menant aux questions."
   ]
  },
  {
   "cell_type": "code",
   "execution_count": null,
   "metadata": {},
   "outputs": [],
   "source": [
    "def chemin_question(urls_cat, liste_prec):\n",
    "    liste_chemin = []\n",
    "    num=0\n",
    "    # pour chaque url de la catégorie:\n",
    "    for url in urls_cat : \n",
    "            response = requests.get(url)\n",
    "            # on récupère le titre des sous catégories/questions\n",
    "            question = (BeautifulSoup(response.text)\n",
    "                  .select(\"html body div.site div.container div.faq div.c-cell__title\"))\n",
    "            # s'il y a des questions:\n",
    "            if question != [] :\n",
    "                # pour chaque numéro de question:\n",
    "                for i in range(0,len(question)):\n",
    "                    # on ajoute le chemin précédent + le titre de la sous catégorie/question\n",
    "                    liste_chemin.append(liste_prec[num] + ' ' + question[i].text.strip())\n",
    "            else:\n",
    "                # sinon on garde le chemin actuel\n",
    "                liste_chemin.append( liste_prec[num] )\n",
    "            num+=1        \n",
    "    return liste_chemin"
   ]
  },
  {
   "cell_type": "code",
   "execution_count": null,
   "metadata": {},
   "outputs": [],
   "source": [
    "chemin1 = chemin_question(urls_categorie1, liste_categories)"
   ]
  },
  {
   "cell_type": "code",
   "execution_count": null,
   "metadata": {},
   "outputs": [],
   "source": [
    "chemin2 = chemin_question(urls_categorie2, chemin1)"
   ]
  },
  {
   "cell_type": "markdown",
   "metadata": {},
   "source": [
    "chemin3 = chemin_question(urls_categorie3, chemin2)"
   ]
  },
  {
   "cell_type": "code",
   "execution_count": null,
   "metadata": {},
   "outputs": [],
   "source": [
    "liste_questions = chemin_question(urls_categorie4, chemin3)"
   ]
  },
  {
   "cell_type": "markdown",
   "metadata": {},
   "source": [
    "### 5. Création d'un dataframe contenant les questions et les réponses "
   ]
  },
  {
   "cell_type": "code",
   "execution_count": null,
   "metadata": {},
   "outputs": [],
   "source": [
    "dataQR = pd.DataFrame({'question': chemin4, 'reponse': liste_textes})\n",
    "dataQR['question'] = dataQR['question'].astype(str)\n",
    "dataQR.head(10)"
   ]
  },
  {
   "cell_type": "code",
   "execution_count": null,
   "metadata": {},
   "outputs": [],
   "source": [
    "# On vérifie combien de questions et de réponses on a.\n",
    "print(\"Le nombre de questions est : \", len(dataQR['question']))\n",
    "print(\"Le nombre de réponses est : \", len(dataQR['reponse']))\n",
    "\n",
    "# afficher les 15 premières données\n",
    "dataQR['question'].values[:15] "
   ]
  },
  {
   "cell_type": "markdown",
   "metadata": {},
   "source": [
    "On enregistre le dataframe obtenu ici pour pouvoir l'utiliser dans un nouveau notebook."
   ]
  },
  {
   "cell_type": "code",
   "execution_count": null,
   "metadata": {},
   "outputs": [],
   "source": [
    "dataQR.to_csv(\"dataQR.csv\")"
   ]
  }
 ],
 "metadata": {
  "kernelspec": {
   "display_name": "Python 3",
   "language": "python",
   "name": "python3"
  },
  "language_info": {
   "codemirror_mode": {
    "name": "ipython",
    "version": 3
   },
   "file_extension": ".py",
   "mimetype": "text/x-python",
   "name": "python",
   "nbconvert_exporter": "python",
   "pygments_lexer": "ipython3",
   "version": "3.7.4"
  }
 },
 "nbformat": 4,
 "nbformat_minor": 4
}
