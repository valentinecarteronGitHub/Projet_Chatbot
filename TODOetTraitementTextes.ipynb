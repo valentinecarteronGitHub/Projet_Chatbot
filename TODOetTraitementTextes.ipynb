{
 "cells": [
  {
   "cell_type": "markdown",
   "metadata": {},
   "source": [
    "## TODO list"
   ]
  },
  {
   "cell_type": "markdown",
   "metadata": {},
   "source": [
    "- enlever les caractères inutiles (margin + replace)\n",
    "- on ne veut pas conserver pas de tableaux (table), pas d'images (img): ne les prend pas en compte automatiquement\n",
    "- si ya un tableau, comment remplacer par un texte\n",
    "- problème de page avec deux réponses\n",
    "\n",
    "- tranformer en dataframe les questions + réponses\n",
    "- prétraitement de la base avec les tokens et les vectorizer."
   ]
  },
  {
   "cell_type": "code",
   "execution_count": null,
   "metadata": {},
   "outputs": [],
   "source": []
  },
  {
   "cell_type": "markdown",
   "metadata": {},
   "source": [
    "## Traitement du texte\n",
    "### Importations des packages nécessaires"
   ]
  },
  {
   "cell_type": "code",
   "execution_count": null,
   "metadata": {},
   "outputs": [],
   "source": [
    "import os\n",
    "from collections import defaultdict, Counter\n",
    "import numpy as np\n",
    "import pandas as pd\n",
    "import re\n",
    "# nltk : en général limité quant au traitement du français\n",
    "import nltk"
   ]
  },
  {
   "cell_type": "code",
   "execution_count": null,
   "metadata": {},
   "outputs": [],
   "source": [
    "# En ligne de commande (sans le signe d'exclamation) ou dans une cellule du notebook (avec le signe d'exclamation)\n",
    "!pip install -U spacy\n",
    "!python -m spacy download fr_core_news_sm"
   ]
  },
  {
   "cell_type": "code",
   "execution_count": null,
   "metadata": {},
   "outputs": [],
   "source": [
    "# spacy : bonne couverture du français et de nombreuses autres langues\n",
    "# conçu spécifiquement pour une interface avec des frameworks de deep learning\n",
    "# nous utiliserons l'un des modèles statistiques fournis\n",
    "import spacy\n",
    "# importer depuis l'emplacement où spacy a été enregistré\n",
    "nlp = spacy.load('C:/Users/user/Anaconda3/Lib/site-packages/fr_core_news_sm/fr_core_news_sm-2.2.0')"
   ]
  },
  {
   "cell_type": "markdown",
   "metadata": {},
   "source": [
    "### 1. Transformer les réponses et les questions en dataframe\n",
    "On a les données sous forme de liste, chaque élément représente une question ou une réponse. Les indices concordent entre réponses/questions."
   ]
  },
  {
   "cell_type": "code",
   "execution_count": null,
   "metadata": {},
   "outputs": [],
   "source": [
    "# reprendre les listes générées par le web scrapping\n",
    "# liste_questions = \n",
    "# liste_reponses = \n",
    "\n",
    "dataQR = pd.DataFrame({'question': liste_questions, 'reponse': liste_reponses})\n",
    "dataQR['question'] = dataQR['question'].astype(str)\n",
    "dataQR.head(10)"
   ]
  },
  {
   "cell_type": "code",
   "execution_count": null,
   "metadata": {},
   "outputs": [],
   "source": [
    "# On vérifie combien de questions et de réponses on a.\n",
    "print(\"Le nombre de questions est : \", len(dataQR['question']))\n",
    "print(\"Le nombre de réponses est : \", len(dataQR['reponse']))"
   ]
  },
  {
   "cell_type": "markdown",
   "metadata": {},
   "source": [
    "### 2. Enregistrer au fur et à mesure avec le module Pickle"
   ]
  },
  {
   "cell_type": "code",
   "execution_count": null,
   "metadata": {},
   "outputs": [],
   "source": [
    "dataQR.to_pickle('QuestRep.pkl')"
   ]
  },
  {
   "cell_type": "code",
   "execution_count": null,
   "metadata": {},
   "outputs": [],
   "source": [
    "# si besoin, pour ouvrir les fichiers\n",
    "# QuestRep = pd.read_pickle('QuestRep.pkl')\n",
    "\n",
    "# afficher les 15 premières données\n",
    "dataQR['question'].values[:15] "
   ]
  },
  {
   "cell_type": "code",
   "execution_count": null,
   "metadata": {},
   "outputs": [],
   "source": []
  }
 ],
 "metadata": {
  "kernelspec": {
   "display_name": "Python 3",
   "language": "python",
   "name": "python3"
  },
  "language_info": {
   "codemirror_mode": {
    "name": "ipython",
    "version": 3
   },
   "file_extension": ".py",
   "mimetype": "text/x-python",
   "name": "python",
   "nbconvert_exporter": "python",
   "pygments_lexer": "ipython3",
   "version": "3.7.4"
  }
 },
 "nbformat": 4,
 "nbformat_minor": 4
}
