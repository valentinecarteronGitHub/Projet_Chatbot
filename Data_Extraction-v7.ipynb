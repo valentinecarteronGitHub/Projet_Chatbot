{
 "cells": [
  {
   "cell_type": "markdown",
   "metadata": {},
   "source": [
    "# Importation des packages"
   ]
  },
  {
   "cell_type": "code",
   "execution_count": 1,
   "metadata": {},
   "outputs": [],
   "source": [
    "import requests\n",
    "from bs4 import BeautifulSoup, Tag, NavigableString\n",
    "from loky import ProcessPoolExecutor\n",
    "from urllib.error import HTTPError, URLError\n",
    "from urllib.request import urlopen\n",
    "import pickle"
   ]
  },
  {
   "cell_type": "code",
   "execution_count": 2,
   "metadata": {},
   "outputs": [],
   "source": [
    "url = \"https://www.vinted.fr/help\"\n",
    "\n",
    "response = requests.get(url)"
   ]
  },
  {
   "cell_type": "markdown",
   "metadata": {},
   "source": [
    "### Récupérer toutes les urls des réponses : "
   ]
  },
  {
   "cell_type": "code",
   "execution_count": 3,
   "metadata": {},
   "outputs": [
    {
     "data": {
      "text/plain": [
       "['https://www.vinted.fr/help/16-comment-ca-marche',\n",
       " 'https://www.vinted.fr/help/4-vendre',\n",
       " 'https://www.vinted.fr/help/5-acheter',\n",
       " 'https://www.vinted.fr/help/313-envoi',\n",
       " 'https://www.vinted.fr/help/418-paiements-et-transferts',\n",
       " 'https://www.vinted.fr/help/15-confiance-et-securite',\n",
       " 'https://www.vinted.fr/help/392-mon-compte-parametres',\n",
       " 'https://www.vinted.fr/help/383-communaute',\n",
       " 'https://www.vinted.fr/help/103-se-connecter']"
      ]
     },
     "execution_count": 3,
     "metadata": {},
     "output_type": "execute_result"
    }
   ],
   "source": [
    "urls = []\n",
    "href = (BeautifulSoup(response.text)\n",
    "          .select(\"html body div.site div.container div.faq div.faq__categories a.faq__category\"))\n",
    "for ref in href :\n",
    "    urls.append(\"https://www.vinted.fr\" + ref.get('href'))\n",
    "urls"
   ]
  },
  {
   "cell_type": "code",
   "execution_count": 6,
   "metadata": {},
   "outputs": [],
   "source": [
    "# with open('urls_nv1.txt', 'w') as f:\n",
    "#     for url in urls:\n",
    "#         f.write(f'{url}\\n')"
   ]
  },
  {
   "cell_type": "code",
   "execution_count": 7,
   "metadata": {},
   "outputs": [
    {
     "data": {
      "text/plain": [
       "['https://www.vinted.fr/help/16-comment-ca-marche',\n",
       " 'https://www.vinted.fr/help/4-vendre',\n",
       " 'https://www.vinted.fr/help/5-acheter',\n",
       " 'https://www.vinted.fr/help/313-envoi',\n",
       " 'https://www.vinted.fr/help/418-paiements-et-transferts',\n",
       " 'https://www.vinted.fr/help/15-confiance-et-securite',\n",
       " 'https://www.vinted.fr/help/392-mon-compte-parametres',\n",
       " 'https://www.vinted.fr/help/383-communaute',\n",
       " 'https://www.vinted.fr/help/103-se-connecter']"
      ]
     },
     "execution_count": 7,
     "metadata": {},
     "output_type": "execute_result"
    }
   ],
   "source": [
    "urls = open(\"urls_nv1.txt\", \"r\")\n",
    "urls = urls.read().split(\"\\n\")\n",
    "urls = urls[:-1]\n",
    "urls"
   ]
  },
  {
   "cell_type": "code",
   "execution_count": 16,
   "metadata": {},
   "outputs": [
    {
     "data": {
      "text/plain": [
       "['https://www.vinted.fr/help/26-vendre-etape-par-etape',\n",
       " 'https://www.vinted.fr/help/25-acheter-sur-vinted-toutes-les-etapes',\n",
       " 'https://www.vinted.fr/help/373-vendre-sur-vinted-c-est-gratuit']"
      ]
     },
     "execution_count": 16,
     "metadata": {},
     "output_type": "execute_result"
    }
   ],
   "source": [
    "urls_nv_2 = []\n",
    "for url in urls :\n",
    "    response_2 = requests.get(url)\n",
    "    href_2 = (BeautifulSoup(response_2.text)\n",
    "              .select(\"html body div.site div.container div.faq a.c-cell__link\"))\n",
    "    for ref in href_2 :\n",
    "        urls_nv_2.append(\"https://www.vinted.fr\" + ref.get('href'))\n",
    "urls_nv_2[0:3]"
   ]
  },
  {
   "cell_type": "code",
   "execution_count": 17,
   "metadata": {},
   "outputs": [],
   "source": [
    "# with open('urls_nv2.txt', 'w') as f:\n",
    "#     for url in urls_nv_2:\n",
    "#         f.write(f'{url}\\n')"
   ]
  },
  {
   "cell_type": "code",
   "execution_count": 2,
   "metadata": {},
   "outputs": [],
   "source": [
    "urls_nv_2 = open(\"urls_nv2.txt\", \"r\")\n",
    "urls_nv_2 = urls_nv_2.read().split(\"\\n\")\n",
    "urls_nv_2 = urls_nv_2[:-1]"
   ]
  },
  {
   "cell_type": "code",
   "execution_count": 3,
   "metadata": {},
   "outputs": [
    {
     "data": {
      "text/plain": [
       "52"
      ]
     },
     "execution_count": 3,
     "metadata": {},
     "output_type": "execute_result"
    }
   ],
   "source": [
    "len(urls_nv_2)"
   ]
  },
  {
   "cell_type": "code",
   "execution_count": 21,
   "metadata": {},
   "outputs": [],
   "source": [
    "def recuperatin_url(urls) :\n",
    "    urls_nv_3 = []\n",
    "    for url in urls :\n",
    "        response_3 = requests.get(url)\n",
    "        href_3 = (BeautifulSoup(response_3.text)\n",
    "                  .select(\"html body div.site div.container div.faq a.c-cell__link\"))\n",
    "        if href_3 != [] :\n",
    "            for ref in href_3 :\n",
    "                urls_nv_3.append(\"https://www.vinted.fr\" + ref.get('href'))\n",
    "        else : \n",
    "            urls_nv_3.append(url)\n",
    "    return urls_nv_3"
   ]
  },
  {
   "cell_type": "code",
   "execution_count": 22,
   "metadata": {},
   "outputs": [
    {
     "data": {
      "text/plain": [
       "216"
      ]
     },
     "execution_count": 22,
     "metadata": {},
     "output_type": "execute_result"
    }
   ],
   "source": [
    "url_nv3 = recuperatin_url(urls_nv_2)\n",
    "len(url_nv3)"
   ]
  },
  {
   "cell_type": "code",
   "execution_count": 24,
   "metadata": {},
   "outputs": [],
   "source": [
    "# with open('urls_nv3.txt', 'w') as f:\n",
    "#     for url in url_nv3:\n",
    "#         f.write(f'{url}\\n')"
   ]
  },
  {
   "cell_type": "code",
   "execution_count": 27,
   "metadata": {},
   "outputs": [],
   "source": [
    "urls_nv3 = open(\"urls_nv3.txt\", \"r\")\n",
    "urls_nv3 = urls_nv3.read().split(\"\\n\")\n",
    "urls_nv3 = urls_nv3[:-1]"
   ]
  },
  {
   "cell_type": "code",
   "execution_count": 9,
   "metadata": {},
   "outputs": [],
   "source": [
    "# def recuperatin_url_niv_2(urls):\n",
    "#     with ProcessPoolExecutor() as epool:\n",
    "#         liste_urls_nv_2 = epool.map(recuperatin_url, urls)\n",
    "#     return list(liste_urls_nv_2)\n",
    "\n",
    "# recuperatin_url_niv_2(urls_nv_2)"
   ]
  },
  {
   "cell_type": "code",
   "execution_count": 27,
   "metadata": {},
   "outputs": [
    {
     "data": {
      "text/plain": [
       "221"
      ]
     },
     "execution_count": 27,
     "metadata": {},
     "output_type": "execute_result"
    }
   ],
   "source": [
    "url_nv4 = recuperatin_url(url_nv3)\n",
    "len(url_nv4)"
   ]
  },
  {
   "cell_type": "code",
   "execution_count": 28,
   "metadata": {},
   "outputs": [],
   "source": [
    "# with open('urls_nv4.txt', 'w') as f:\n",
    "#     for url in url_nv4:\n",
    "#         f.write(f'{url}\\n')"
   ]
  },
  {
   "cell_type": "code",
   "execution_count": 2,
   "metadata": {},
   "outputs": [],
   "source": [
    "url_nv4 = open(\"urls_nv4.txt\", \"r\")\n",
    "url_nv4 = url_nv4.read().split(\"\\n\")\n",
    "url_nv4 = url_nv4[:-1]"
   ]
  },
  {
   "cell_type": "code",
   "execution_count": 3,
   "metadata": {},
   "outputs": [
    {
     "name": "stdout",
     "output_type": "stream",
     "text": [
      "221\n"
     ]
    },
    {
     "data": {
      "text/plain": [
       "['https://www.vinted.fr/help/26-vendre-etape-par-etape',\n",
       " 'https://www.vinted.fr/help/25-acheter-sur-vinted-toutes-les-etapes',\n",
       " 'https://www.vinted.fr/help/373-vendre-sur-vinted-c-est-gratuit',\n",
       " 'https://www.vinted.fr/help/356-comment-partager-mon-retour-d-experience-sur-vinted']"
      ]
     },
     "execution_count": 3,
     "metadata": {},
     "output_type": "execute_result"
    }
   ],
   "source": [
    "print(len(url_nv4))\n",
    "url_nv4[0:4]"
   ]
  },
  {
   "cell_type": "code",
   "execution_count": null,
   "metadata": {},
   "outputs": [],
   "source": []
  },
  {
   "cell_type": "markdown",
   "metadata": {},
   "source": [
    "### Récupérer le texte (les réponses) des urls :"
   ]
  },
  {
   "cell_type": "code",
   "execution_count": 3,
   "metadata": {},
   "outputs": [],
   "source": [
    "def ValidTag(monTag):\n",
    "    if type(monTag) == Tag and monTag.has_attr(\"class\"):\n",
    "        if ' '.join(monTag.attrs[\"class\"]) in ['tab-content', 'nav-tabs-horizontal', '“table-wrapper”']:\n",
    "            return False\n",
    "    return True"
   ]
  },
  {
   "cell_type": "code",
   "execution_count": 4,
   "metadata": {},
   "outputs": [],
   "source": [
    "def getSelectedText(monTag):\n",
    "    texte = []\n",
    "    for child in monTag.children :\n",
    "        if type(child) == NavigableString :\n",
    "            if (child.string).strip() != '' and (child.string).strip() != ' ' :\n",
    "                texte.append( \" \" + (child.string).strip() )\n",
    "                \n",
    "        ## Récupération des tableaux\n",
    "        if type(child) == Tag and child.has_attr(\"class\") and ' '.join(child.attrs[\"class\"]) in ['“table-wrapper”']:\n",
    "            tables = child.findAll('table')\n",
    "\n",
    "\n",
    "            l = []\n",
    "            nbr_valeur_ligne = []\n",
    "            colonne = []\n",
    "            \n",
    "            for i,tr in enumerate(tables[0].findAll('tr')):\n",
    "                if 'rowspan' in str(tr) : \n",
    "                    valeur_depart = i \n",
    "                            #print(tr)\n",
    "                l.append(tr.text.replace('\\n', '|#|'))\n",
    "\n",
    "            liste_entete = l[0].split('|#|')\n",
    "            while '' in liste_entete : \n",
    "                liste_entete.remove('')\n",
    "                    #print(liste_entete)\n",
    "            a_change = []\n",
    "            for i,td in enumerate(tables[0].findAll('td')) :\n",
    "                if td.has_attr(\"rowspan\") : \n",
    "                    num_colonne = i % len(liste_entete) \n",
    "                    nbr_fois_col = td.attrs['rowspan']\n",
    "                    valeur_a_ajouter = td.text\n",
    "                    a_change = [valeur_depart + o for o in range(2,int(nbr_fois_col)+1)]\n",
    "\n",
    "            n = 1\n",
    "            for mot in l[1::] : \n",
    "                n +=1\n",
    "                ligne = mot.split('|#|')\n",
    "                while '' in ligne : \n",
    "                    ligne.remove('')\n",
    "                        #print(ligne)\n",
    "                if n in a_change: \n",
    "                    ligne[num_colonne:num_colonne] = [valeur_a_ajouter]\n",
    "                        #print(ligne)\n",
    "                for i in range(0,len(liste_entete)) : \n",
    "                    texte.append( str(liste_entete[i]) +  \" : \" + str(ligne[i]) )\n",
    "                texte.append( '------' )       \n",
    "                \n",
    "        \n",
    "                \n",
    "        if type(child) == Tag and ValidTag(child) and child.name != 'table':\n",
    "            if getSelectedText(child).strip() != '' and getSelectedText(child).strip() != ' ' :\n",
    "                texte.append( getSelectedText(child).strip() )\n",
    "                \n",
    "                \n",
    "        if type(child) == Tag and child.name == 'table':\n",
    "            #print([child])\n",
    "            tables = child.find('table')\n",
    "            #print(tables)\n",
    "\n",
    "            l = []\n",
    "            nbr_valeur_ligne = []\n",
    "            colonne = []\n",
    "            #print([child][0])\n",
    "            for i,tr in enumerate([child][0].findAll('tr')):\n",
    "                if 'rowspan' in str(tr) : \n",
    "                    valeur_depart = i \n",
    "                l.append(tr.text.replace('\\n', '|#|'))\n",
    "\n",
    "            liste_entete = l[0].split('|#|')\n",
    "            while '' in liste_entete : \n",
    "                liste_entete.remove('')\n",
    "            a_change = []\n",
    "            for i,td in enumerate([child][0].findAll('td')) :\n",
    "                if td.has_attr(\"rowspan\") : \n",
    "                    num_colonne = i % len(liste_entete) \n",
    "                    nbr_fois_col = td.attrs['rowspan']\n",
    "                    valeur_a_ajouter = td.text\n",
    "                    a_change = [valeur_depart + o for o in range(2,int(nbr_fois_col)+1)]\n",
    "\n",
    "            n = 1\n",
    "            for mot in l[1::] : \n",
    "                n +=1\n",
    "                ligne = mot.split('|#|')\n",
    "                while '' in ligne : \n",
    "                    ligne.remove('')\n",
    "                        #print(ligne)\n",
    "                if n in a_change: \n",
    "                    ligne[num_colonne:num_colonne] = [valeur_a_ajouter]\n",
    "                        #print(ligne)\n",
    "                for i in range(0,len(liste_entete)) : \n",
    "                    texte.append( str(liste_entete[i]) +  \" : \" + str(ligne[i]) )\n",
    "                texte.append( '------' )             \n",
    "        \n",
    "    texte_final = '\\n'.join(texte)\n",
    "    return texte_final"
   ]
  },
  {
   "cell_type": "code",
   "execution_count": 7,
   "metadata": {},
   "outputs": [
    {
     "name": "stdout",
     "output_type": "stream",
     "text": [
      "https://www.vinted.fr/help/26-vendre-etape-par-etape\n",
      "https://www.vinted.fr/help/25-acheter-sur-vinted-toutes-les-etapes\n",
      "https://www.vinted.fr/help/373-vendre-sur-vinted-c-est-gratuit\n",
      "https://www.vinted.fr/help/356-comment-partager-mon-retour-d-experience-sur-vinted\n",
      "https://www.vinted.fr/help/265-comment-utiliser-le-centre-d-aide\n",
      "https://www.vinted.fr/help/375-ajouter-un-article-etape-par-etape\n",
      "https://www.vinted.fr/help/26-vendre-etape-par-etape\n",
      "https://www.vinted.fr/help/373-vendre-sur-vinted-c-est-gratuit\n",
      "https://www.vinted.fr/help/52-qu-est-ce-que-je-peux-vendre-sur-vinted\n",
      "https://www.vinted.fr/help/220-comment-echanger-un-article\n",
      "https://www.vinted.fr/help/375-ajouter-un-article-etape-par-etape\n",
      "https://www.vinted.fr/help/601-quelles-photos-dois-je-mettre-en-ligne-pour-mes-articles-de-marque\n",
      "https://www.vinted.fr/help/48-comment-prendre-de-bonnes-photos\n",
      "https://www.vinted.fr/help/49-comment-bien-decrire-mon-article\n",
      "https://www.vinted.fr/help/50-comment-choisir-l-etat-de-mon-article\n",
      "https://www.vinted.fr/help/47-comment-selectionner-une-marque\n",
      "https://www.vinted.fr/help/376-comment-fixer-un-bon-prix\n",
      "https://www.vinted.fr/help/51-comment-choisir-le-format-de-mon-colis\n",
      "https://www.vinted.fr/help/257-comment-vendre-un-lot\n",
      "https://www.vinted.fr/help/102-remettre-un-article-en-ligne\n",
      "https://www.vinted.fr/help/421-en-quoi-consistent-les-brouillons-d-articles\n",
      "https://www.vinted.fr/help/57-vends-tes-articles-plus-vite\n",
      "https://www.vinted.fr/help/476-pourquoi-ai-je-besoin-d-abonnes\n",
      "https://www.vinted.fr/help/340-comment-remonter-mes-articles-en-haut-du-catalogue\n",
      "https://www.vinted.fr/help/450-comment-acheter-un-boost\n",
      "https://www.vinted.fr/help/258-comment-faire-une-offre-a-mon-acheteur\n",
      "https://www.vinted.fr/help/452-en-quoi-consiste-dressing-en-vitrine\n",
      "https://www.vinted.fr/help/422-comment-parametrer-des-reductions-sur-mon-catalogue\n",
      "https://www.vinted.fr/help/442-le-vendeur-peut-il-modifier-le-mode-de-livraison\n",
      "https://www.vinted.fr/help/458-qui-paie-les-frais-de-port\n",
      "https://www.vinted.fr/help/65-comment-emballer-mon-article\n",
      "https://www.vinted.fr/help/482-comment-envoyer-l-article\n",
      "https://www.vinted.fr/help/198-sous-quel-delai-dois-je-envoyer-mon-article\n",
      "https://www.vinted.fr/help/100-comment-suivre-ton-colis\n",
      "https://www.vinted.fr/help/101-combien-de-temps-prend-la-livraison\n",
      "https://www.vinted.fr/help/69-quelles-infos-dois-je-entrer-pour-transferer-mon-argent\n",
      "https://www.vinted.fr/help/437-en-quoi-consiste-le-porte-monnaie-vinted\n",
      "https://www.vinted.fr/help/460-pourquoi-le-paiement-est-il-en-attente\n",
      "https://www.vinted.fr/help/483-le-systeme-de-paiement-securise-de-vinted\n",
      "https://www.vinted.fr/help/68-comment-recevoir-l-argent-de-mes-ventes-sur-mon-compte-bancaire\n",
      "https://www.vinted.fr/help/235-quand-est-ce-que-le-vendeur-recevra-son-paiement\n",
      "https://www.vinted.fr/help/74-mon-transfert-a-echoue\n",
      "https://www.vinted.fr/help/73-le-transfert-est-revenu-dans-mon-porte-monnaie\n",
      "https://www.vinted.fr/help/76-le-transfert-n-apparait-pas-sur-mon-compte-bancaire\n",
      "https://www.vinted.fr/help/71-comment-recevoir-mes-paiements-sur-paypal-ou-ideal\n",
      "https://www.vinted.fr/help/349-standards-de-la-communaute-vinted\n",
      "https://www.vinted.fr/help/14-comment-laisser-une-evaluation\n",
      "https://www.vinted.fr/help/218-pourquoi-ai-je-recu-une-evaluation-negative-de-la-part-de-vinted\n",
      "https://www.vinted.fr/help/149-est-ce-que-vinted-peut-me-retirer-une-evaluation-negative\n",
      "https://www.vinted.fr/help/317-comment-fonctionne-le-systeme-d-evaluation\n",
      "https://www.vinted.fr/help/459-pourquoi-vinted-a-annule-ma-transaction\n",
      "https://www.vinted.fr/help/272-est-ce-que-je-peux-retourner-l-article-recu\n",
      "https://www.vinted.fr/help/58-est-il-possible-d-annuler-ma-transaction\n",
      "https://www.vinted.fr/help/465-politique-de-remboursement-de-vinted\n",
      "https://www.vinted.fr/help/267-mettre-un-article-dans-mes-favoris\n",
      "https://www.vinted.fr/help/59-comment-indiquer-que-mon-article-est-reserve\n",
      "https://www.vinted.fr/help/307-quelle-est-la-politique-d-authenticite-de-vinted\n",
      "https://www.vinted.fr/help/60-comment-masquer-mes-articles\n",
      "https://www.vinted.fr/help/52-qu-est-ce-que-je-peux-vendre-sur-vinted\n",
      "https://www.vinted.fr/help/62-pourquoi-mon-article-a-t-il-ete-masque-ou-supprime\n",
      "https://www.vinted.fr/help/63-pourquoi-mon-article-a-t-il-peu-de-visites\n",
      "https://www.vinted.fr/help/99-conseils-pour-tes-achats\n",
      "https://www.vinted.fr/help/25-acheter-sur-vinted-toutes-les-etapes\n",
      "https://www.vinted.fr/help/342-la-protection-acheteurs-vinted\n",
      "https://www.vinted.fr/help/220-comment-echanger-un-article\n",
      "https://www.vinted.fr/help/409-comment-personnaliser-vinted\n",
      "https://www.vinted.fr/help/435-abonne-toi-aux-recherches\n",
      "https://www.vinted.fr/help/31-en-quoi-consiste-la-personnalisation\n",
      "https://www.vinted.fr/help/99-conseils-pour-tes-achats\n",
      "https://www.vinted.fr/help/267-mettre-un-article-dans-mes-favoris\n",
      "https://www.vinted.fr/help/35-trouver-un-article\n",
      "https://www.vinted.fr/help/178-que-faire-si-l-acheteur-a-deja-recu-l-article\n",
      "https://www.vinted.fr/help/260-comment-faire-un-lot\n",
      "https://www.vinted.fr/help/342-la-protection-acheteurs-vinted\n",
      "https://www.vinted.fr/help/259-comment-faire-une-offre-au-vendeur\n",
      "https://www.vinted.fr/help/94-les-methodes-de-paiement-acceptees\n",
      "https://www.vinted.fr/help/89-ajouter-modifier-une-carte-de-credit\n",
      "https://www.vinted.fr/help/342-la-protection-acheteurs-vinted\n",
      "https://www.vinted.fr/help/95-comment-utiliser-un-bon-d-achat-vinted\n",
      "https://www.vinted.fr/help/189-pourquoi-mon-paiement-a-t-il-echoue\n",
      "https://www.vinted.fr/help/290-comment-vinted-securise-les-paiements-bancaires\n",
      "https://www.vinted.fr/help/465-politique-de-remboursement-de-vinted\n",
      "https://www.vinted.fr/help/66-comment-modifier-mon-adresse\n",
      "https://www.vinted.fr/help/100-comment-suivre-ton-colis\n",
      "https://www.vinted.fr/help/101-combien-de-temps-prend-la-livraison\n",
      "https://www.vinted.fr/help/272-est-ce-que-je-peux-retourner-l-article-recu\n",
      "https://www.vinted.fr/help/349-standards-de-la-communaute-vinted\n",
      "https://www.vinted.fr/help/14-comment-laisser-une-evaluation\n",
      "https://www.vinted.fr/help/218-pourquoi-ai-je-recu-une-evaluation-negative-de-la-part-de-vinted\n",
      "https://www.vinted.fr/help/149-est-ce-que-vinted-peut-me-retirer-une-evaluation-negative\n",
      "https://www.vinted.fr/help/317-comment-fonctionne-le-systeme-d-evaluation\n",
      "https://www.vinted.fr/help/459-pourquoi-vinted-a-annule-ma-transaction\n",
      "https://www.vinted.fr/help/272-est-ce-que-je-peux-retourner-l-article-recu\n",
      "https://www.vinted.fr/help/58-est-il-possible-d-annuler-ma-transaction\n",
      "https://www.vinted.fr/help/465-politique-de-remboursement-de-vinted\n",
      "https://www.vinted.fr/help/465-politique-de-remboursement-de-vinted\n",
      "https://www.vinted.fr/help/441-options-d-envoi-pour-les-vendeurs\n",
      "https://www.vinted.fr/help/443-comment-fonctionnent-les-frais-de-port-personnalises\n",
      "https://www.vinted.fr/help/447-comment-modifier-les-modes-de-livraison\n",
      "https://www.vinted.fr/help/547-que-dois-je-savoir-a-propos-de-chrono-shop2shop\n",
      "https://www.vinted.fr/help/574-envoi-international-guide-pour-les-vendeurs\n",
      "https://www.vinted.fr/help/234-instructions-d-expedition-pour-chaque-mode-d-envoi\n",
      "https://www.vinted.fr/help/442-le-vendeur-peut-il-modifier-le-mode-de-livraison\n",
      "https://www.vinted.fr/help/448-comment-ajouter-une-preuve-d-envoi-numero-de-suivi-sur-vinted\n",
      "https://www.vinted.fr/help/458-qui-paie-les-frais-de-port\n",
      "https://www.vinted.fr/help/65-comment-emballer-mon-article\n",
      "https://www.vinted.fr/help/482-comment-envoyer-l-article\n",
      "https://www.vinted.fr/help/51-comment-choisir-le-format-de-mon-colis\n",
      "https://www.vinted.fr/help/154-je-ne-parviens-pas-a-telecharger-le-bordereau-d-envoi\n",
      "https://www.vinted.fr/help/198-sous-quel-delai-dois-je-envoyer-mon-article\n",
      "https://www.vinted.fr/help/100-comment-suivre-ton-colis\n",
      "https://www.vinted.fr/help/465-politique-de-remboursement-de-vinted\n",
      "https://www.vinted.fr/help/444-comment-fonctionne-la-livraison-d-un-colis\n",
      "https://www.vinted.fr/help/573-options-d-envoi-pour-les-acheteurs\n",
      "https://www.vinted.fr/help/575-envoi-international-guide-pour-les-acheteurs\n",
      "https://www.vinted.fr/help/66-comment-modifier-mon-adresse\n",
      "https://www.vinted.fr/help/100-comment-suivre-ton-colis\n",
      "https://www.vinted.fr/help/101-combien-de-temps-prend-la-livraison\n",
      "https://www.vinted.fr/help/272-est-ce-que-je-peux-retourner-l-article-recu\n",
      "https://www.vinted.fr/help/94-les-methodes-de-paiement-acceptees\n",
      "https://www.vinted.fr/help/235-quand-est-ce-que-le-vendeur-recevra-son-paiement\n",
      "https://www.vinted.fr/help/89-ajouter-modifier-une-carte-de-credit\n",
      "https://www.vinted.fr/help/90-utiliser-paypal-sur-vinted\n",
      "https://www.vinted.fr/help/95-comment-utiliser-un-bon-d-achat-vinted\n",
      "https://www.vinted.fr/help/189-pourquoi-mon-paiement-a-t-il-echoue\n",
      "https://www.vinted.fr/help/290-comment-vinted-securise-les-paiements-bancaires\n",
      "https://www.vinted.fr/help/437-en-quoi-consiste-le-porte-monnaie-vinted\n",
      "https://www.vinted.fr/help/266-comment-activer-mon-porte-monnaie-vinted\n",
      "https://www.vinted.fr/help/69-quelles-infos-dois-je-entrer-pour-transferer-mon-argent\n",
      "https://www.vinted.fr/help/460-pourquoi-le-paiement-est-il-en-attente\n",
      "https://www.vinted.fr/help/68-comment-recevoir-l-argent-de-mes-ventes-sur-mon-compte-bancaire\n",
      "https://www.vinted.fr/help/70-comment-modifier-mes-informations-bancaires\n",
      "https://www.vinted.fr/help/74-mon-transfert-a-echoue\n",
      "https://www.vinted.fr/help/73-le-transfert-est-revenu-dans-mon-porte-monnaie\n",
      "https://www.vinted.fr/help/76-le-transfert-n-apparait-pas-sur-mon-compte-bancaire\n",
      "https://www.vinted.fr/help/71-comment-recevoir-mes-paiements-sur-paypal-ou-ideal\n",
      "https://www.vinted.fr/help/550-protection-acheteurs\n",
      "https://www.vinted.fr/help/82-mes-achats-sont-ils-securises\n",
      "https://www.vinted.fr/help/272-est-ce-que-je-peux-retourner-l-article-recu\n",
      "https://www.vinted.fr/help/290-comment-vinted-securise-les-paiements-bancaires\n",
      "https://www.vinted.fr/help/465-politique-de-remboursement-de-vinted\n",
      "https://www.vinted.fr/help/551-securite-et-support-pour-les-vendeurs\n",
      "https://www.vinted.fr/help/83-mes-ventes-sont-elles-securisees\n",
      "https://www.vinted.fr/help/465-politique-de-remboursement-de-vinted\n",
      "https://www.vinted.fr/help/91-comment-bloquer-un-autre-membre\n",
      "https://www.vinted.fr/help/92-pourquoi-mon-compte-a-t-il-ete-bloque\n",
      "https://www.vinted.fr/help/93-pourquoi-mon-adresse-ip-a-t-elle-ete-bloquee\n",
      "https://www.vinted.fr/help/288-comment-signaler-un-membre\n",
      "https://www.vinted.fr/help/445-comment-signaler-un-message-prive\n",
      "https://www.vinted.fr/help/446-comment-signaler-un-article\n",
      "https://www.vinted.fr/help/22-comment-signaler-un-contenu-inapproprie-sur-le-forum\n",
      "https://www.vinted.fr/help/628-reconnaitre-les-messages-frauduleux-et-les-tentatives-de-hameconnage\n",
      "https://www.vinted.fr/help/286-comment-puis-je-eviter-les-fraudes\n",
      "https://www.vinted.fr/help/540-rgpd-qu-est-ce-que-cela-signifie-pour-moi-en-tant-que-membre-de-vinted\n",
      "https://www.vinted.fr/help/81-mes-donnees-personnelles-sont-elles-securisees\n",
      "https://www.vinted.fr/help/111-pourquoi-dois-je-vous-envoyer-ma-piece-d-identite\n",
      "https://www.vinted.fr/help/537-verification-en-deux-etapes-fonctionnement\n",
      "https://www.vinted.fr/help/570-verification-de-l-achat\n",
      "https://www.vinted.fr/help/597-confirme-ton-identite-pour-changer-ton-adresse-e-mail\n",
      "https://www.vinted.fr/help/622-la-verification-du-numero-de-telephone-n-a-pas-fonctionne\n",
      "https://www.vinted.fr/help/86-comment-changer-mon-adresse-e-mail\n",
      "https://www.vinted.fr/help/406-comment-faire-verifier-mon-compte-avec-google-facebook\n",
      "https://www.vinted.fr/help/307-quelle-est-la-politique-d-authenticite-de-vinted\n",
      "https://www.vinted.fr/help/52-qu-est-ce-que-je-peux-vendre-sur-vinted\n",
      "https://www.vinted.fr/help/62-pourquoi-mon-article-a-t-il-ete-masque-ou-supprime\n",
      "https://www.vinted.fr/help/24-regles-du-forum\n",
      "https://www.vinted.fr/help/349-standards-de-la-communaute-vinted\n",
      "https://www.vinted.fr/help/23-pourquoi-mon-sujet-commentaire-a-t-il-ete-supprime\n",
      "https://www.vinted.fr/help/22-comment-signaler-un-contenu-inapproprie-sur-le-forum\n",
      "https://www.vinted.fr/help/59-comment-indiquer-que-mon-article-est-reserve\n",
      "https://www.vinted.fr/help/340-comment-remonter-mes-articles-en-haut-du-catalogue\n",
      "https://www.vinted.fr/help/60-comment-masquer-mes-articles\n",
      "https://www.vinted.fr/help/80-est-ce-que-vinted-peut-utiliser-mes-photos\n",
      "https://www.vinted.fr/help/33-le-mode-vacances\n",
      "https://www.vinted.fr/help/62-pourquoi-mon-article-a-t-il-ete-masque-ou-supprime\n",
      "https://www.vinted.fr/help/422-comment-parametrer-des-reductions-sur-mon-catalogue\n",
      "https://www.vinted.fr/help/402-comment-remplir-modifier-les-informations-de-mon-profil\n",
      "https://www.vinted.fr/help/597-confirme-ton-identite-pour-changer-ton-adresse-e-mail\n",
      "https://www.vinted.fr/help/405-les-informations-de-mon-profil-sont-elles-visibles-aux-autres-membres\n",
      "https://www.vinted.fr/help/404-a-quoi-consiste-la-partie-a-propos-de-moi\n",
      "https://www.vinted.fr/help/33-le-mode-vacances\n",
      "https://www.vinted.fr/help/86-comment-changer-mon-adresse-e-mail\n",
      "https://www.vinted.fr/help/84-est-il-possible-de-modifier-mon-identifiant\n",
      "https://www.vinted.fr/help/106-comment-changer-mon-mot-de-passe\n",
      "https://www.vinted.fr/help/88-comment-supprimer-mon-compte\n",
      "https://www.vinted.fr/help/406-comment-faire-verifier-mon-compte-avec-google-facebook\n",
      "https://www.vinted.fr/help/447-comment-modifier-les-modes-de-livraison\n",
      "https://www.vinted.fr/help/66-comment-modifier-mon-adresse\n",
      "https://www.vinted.fr/help/89-ajouter-modifier-une-carte-de-credit\n",
      "https://www.vinted.fr/help/70-comment-modifier-mes-informations-bancaires\n",
      "https://www.vinted.fr/help/90-utiliser-paypal-sur-vinted\n",
      "https://www.vinted.fr/help/437-en-quoi-consiste-le-porte-monnaie-vinted\n",
      "https://www.vinted.fr/help/266-comment-activer-mon-porte-monnaie-vinted\n",
      "https://www.vinted.fr/help/409-comment-personnaliser-vinted\n",
      "https://www.vinted.fr/help/31-en-quoi-consiste-la-personnalisation\n",
      "https://www.vinted.fr/help/318-comment-inviter-tes-amis-sur-vinted\n",
      "https://www.vinted.fr/help/433-comment-parametrer-les-notifications-push-sur-ton-telephone\n",
      "https://www.vinted.fr/help/434-comment-parametrer-mes-notifications-par-e-mail\n",
      "https://www.vinted.fr/help/435-abonne-toi-aux-recherches\n",
      "https://www.vinted.fr/help/32-parametrer-mes-notifications\n",
      "https://www.vinted.fr/help/92-pourquoi-mon-compte-a-t-il-ete-bloque\n",
      "https://www.vinted.fr/help/206-comment-resoudre-un-bug\n",
      "https://www.vinted.fr/help/24-regles-du-forum\n",
      "https://www.vinted.fr/help/19-comment-creer-un-sujet-sur-le-forum\n",
      "https://www.vinted.fr/help/20-comment-poster-anonymement\n",
      "https://www.vinted.fr/help/21-mes-sujets-sur-le-forum\n",
      "https://www.vinted.fr/help/23-pourquoi-mon-sujet-commentaire-a-t-il-ete-supprime\n",
      "https://www.vinted.fr/help/22-comment-signaler-un-contenu-inapproprie-sur-le-forum\n",
      "https://www.vinted.fr/help/288-comment-signaler-un-membre\n",
      "https://www.vinted.fr/help/318-comment-inviter-tes-amis-sur-vinted\n",
      "https://www.vinted.fr/help/349-standards-de-la-communaute-vinted\n",
      "https://www.vinted.fr/help/476-pourquoi-ai-je-besoin-d-abonnes\n",
      "https://www.vinted.fr/help/91-comment-bloquer-un-autre-membre\n",
      "https://www.vinted.fr/help/587-je-me-suis-inscrit-avec-une-mauvaise-adresse-e-mail\n",
      "https://www.vinted.fr/help/588-je-n-ai-pas-de-compte-mais-je-recois-des-courriels-de-vinted\n",
      "https://www.vinted.fr/help/105-comment-s-inscrire-sur-vinted\n",
      "https://www.vinted.fr/help/104-tu-n-arrives-pas-a-te-connecter-a-ton-compte\n",
      "https://www.vinted.fr/help/92-pourquoi-mon-compte-a-t-il-ete-bloque\n",
      "https://www.vinted.fr/help/93-pourquoi-mon-adresse-ip-a-t-elle-ete-bloquee\n",
      "https://www.vinted.fr/help/106-comment-changer-mon-mot-de-passe\n",
      "https://www.vinted.fr/help/315-j-essaie-de-m-inscrire-sur-vinted-mais-mon-adresse-e-mail-est-prise\n"
     ]
    },
    {
     "data": {
      "text/plain": [
       "['Vendre, étape par étape\\nVendre un article, c’est simple et gratuit ! Voilà comment faire :\\nMettre en ligne un article.\\nAjoute de\\nbelles photos\\n de l’article, écris une\\ndescription\\n détaillée,\\nfixe le prix\\n de ton article, choisis une\\ntaille pour le colis\\n .\\nLa mise en ligne d’un article est gratuite.\\nMettre en ligne plus d’un article aide à vendre plus vite.\\nConfigure ton profil.\\nParamètre ton\\nporte-monnaie Vinted\\n et fais\\nvérifier ton compte\\n .\\nSélectionne le transport et les modes de paiement dans tes paramètres. Tu peux également faire une promotion sur ton catalogue.\\nEn ajoutant une\\ndescription et une photo sur ton profil\\n , tu renforceras la confiance des autres membres.\\nAttends les acheteurs.\\nSois prêt à répondre aux questions des acheteurs.\\nClique sur le bouton\\nFaire une offre\\n si tu veux proposer un meilleur prix.\\nTu seras notifié durant tout le processus d’achat de ton acheteur.\\nArticle vendu : il est temps de l’envoyer.\\nEmballe ton article\\n (une touche personnelle est toujours appréciée)\\nEnvoie l’article avec le mode de livraison choisi par l’acheteur.\\nSuis les instructions de livraison, mais veille bien à envoyer l’article dans les 5 jours après l’achat.\\nEn envoyant l’article rapidement, tu ne risques pas de voir ta commande être automatiquement annulée et remboursée.\\nSi l’acheteur a choisi un mode de livraison avec suivi, vous pouvez, ton acheteur et toi, suivre la livraison de l’article au sein même de l’application Vinted.\\nReçu ! Laisse une évaluation et reçois ton paiement.\\nDès que l’acheteur clique sur\\nTout est ok,\\n le statut de ton paiement passe automatiquement à\\nEn cours\\n dans ton porte-monnaie Vinted.\\nLes transferts d’argent peuvent mettre jusqu’à 4 jours ouvrés pour apparaître dans ton compte bancaire (cela peut dépendre du mode/transfert bancaire utilisé).\\nTu peux maintenant laisser une évaluation pour ton acheteur et dire aux autres membres ce que tu penses.',\n",
       " \"Acheter sur Vinted : toutes les étapes\\nTrouve un article qui te plaît\\nL'icône en forme de cœur te permet de sauvegarder les articles que tu aimes dans tes favoris.\\nSuis tes marques et tes membres préférés, ainsi leurs articles apparaîtront dans ton fil d'actualité. Pour accéder au fil d'actualité ou à l'onglet tendance sur appli, clique simplement sur l'icône en forme de boussole situé sur l'extrémité gauche du menu de navigation.\\nTu peux filtrer les articles par taille.\\nUtilise les autres filtres de notre catalogue pour trier les articles par marque/couleur/prix, etc.\\nCliquer sur\\nTrier\\n pour organiser les résultats de ta recherche par nouveauté, prix croissant, prix décroissant et cohérence avec l'article recherché.\\nContacte le vendeur\\nClique sur\\nEnvoyer un message.\\nDans la fenêtre qui s'ouvre, tu peux :\\nDiscuter avec le membre.\\nProposer un autre prix via le bouton\\nFaire une offre.\\nProcéder à l'achat immédiat de l'article.\\nDemander plus d'informations au sujet de l'article.\\nAchète l'article\\nClique sur\\nAcheter\\n et procède au paiement de l'article.\\nLors de ton premier achat, tu devras\\nentrer les données de ta carte bancaire\\n .\\nTu peux régler ton achat par carte bancaire via iDEAL ou ton compte PayPal (dans le cas d’un envoi en suivi uniquement).\\nLe prix à payer comprend les frais de livraison et les frais de protection acheteurs  de 5% + 0.70 € qui s’appliquent pour tous paiements effectués sur Vinted.\\nVérifie ton adresse de livraison.\\nLes frais de port varient de 2,80€ à 8,50€ et dépendent du poids du colis et du mode d'envoi que tu choisis.\\nTu peux ajouter/modifier tes modes de paiement depuis la page\\nMes paramètres\\n (web) ou\\nParamètres\\n (appli mobile).\\nRéceptionne ton article\\nArticle acheté ! Tu n'as plus qu'à attendre de le recevoir.\\nLe vendeur a 5 jours ouvrés pour expédier son colis via La Poste ou Mondial Relay (selon le mode de livraison que tu as choisi).\\nDès que le colis a été scanné par le système d'envoi, tu peux suivre\\nson acheminement\\n directement sur Vinted, depuis ta conversation avec le vendeur.\\nIl faut généralement compter 2 à 5 jours ouvrés pour recevoir ton colis.\\nArticle livré ! Indique-nous que tu l'as\\nBien reçu.\\nQuand le colis est indiqué comme livré sur Vinted,\\ntu as deux possibilités :\\nClique sur\\nTout est ok\\n si l'article est conforme.\\nClique sur\\nJ'ai un problème\\n pour suspendre la transaction et nous contacter. Ce bouton est accessible après avoir cliqué sur le bouton\\nBien Reçu\\n .\\nSans action de ta part dans un délai de 2 jours, la transaction est automatiquement validée et une évaluation est laissée sur le profil du vendeur.\\nIl est important de maintenir un climat de confiance au sein de la communauté Vinted.\\nInfos utiles\\nVinted te\\nrembourse\\n intégralement (prix de l'article + frais de port initiaux) si l'article est arrivé endommagé ou est non conforme à sa description.\\nConfirme ton adresse mail sur Vinted, ainsi tu recevras bien tous les mails concernant tes commandes.\\nSi tu possèdes un bon d'achat en cours de validité, il est automatiquement pris en compte lors de ton achat.\",\n",
       " \"Vendre sur Vinted, c'est gratuit ?\\nIl n'y a pas de frais quand tu ajoutes et vends un article sur Vinted : mettre en ligne des articles et les vendre est donc gratuit. Cela signifie que tu reçois directement dans ton\\nporte-monnaie\\n le montant que tu as fixé pour ton article.\\nCommence à vendre\\n !\"]"
      ]
     },
     "execution_count": 7,
     "metadata": {},
     "output_type": "execute_result"
    }
   ],
   "source": [
    "liste_textes = []\n",
    "for url in url_nv4 :\n",
    "    print(url)\n",
    "    try :\n",
    "        html = urlopen(url)\n",
    "    except (HTTPError, URLError) as e :\n",
    "        sys.exit(e)\n",
    "\n",
    "    bsObj = BeautifulSoup(html, \"lxml\")\n",
    "    maDiv = bsObj.find(\"div\", class_=\"site\").find(\"div\", class_=\"body-content\").find(\"div\", class_=\"faq__question-answer faq-content\")\n",
    "    texte = getSelectedText(maDiv).strip().replace('\\xa0', ' ').replace('\\u200b', ' ').replace('\\u2192', ' ').replace('\\u2194', ' ').replace('\\u2028', ' ')\n",
    "    liste_textes.append(texte)\n",
    "liste_textes[0:3]"
   ]
  },
  {
   "cell_type": "code",
   "execution_count": 14,
   "metadata": {},
   "outputs": [],
   "source": [
    "for elem in liste_textes[4:5]:\n",
    "     print(elem.replace('  ','\\n'))"
   ]
  },
  {
   "cell_type": "code",
   "execution_count": 25,
   "metadata": {},
   "outputs": [],
   "source": [
    "#liste_textes[99].split('\\n')"
   ]
  },
  {
   "cell_type": "code",
   "execution_count": 8,
   "metadata": {},
   "outputs": [],
   "source": [
    "# with open('Reponses_aux_questions_A_laligne_3.txt', 'w') as f:\n",
    "#     for texte in liste_textes:\n",
    "#         f.write(f'{str(texte)}|#|')"
   ]
  },
  {
   "cell_type": "markdown",
   "metadata": {},
   "source": [
    "#### EXEMPLE : "
   ]
  },
  {
   "cell_type": "code",
   "execution_count": 20,
   "metadata": {},
   "outputs": [
    {
     "name": "stdout",
     "output_type": "stream",
     "text": [
      "https://www.vinted.fr/help/441-options-d-envoi-pour-les-vendeurs\n"
     ]
    },
    {
     "data": {
      "text/plain": [
       "[\"Options d'envoi pour les vendeurs\\nPour vendre plus rapidement, nous te conseillons d’offrir à tes acheteurs le plus d’options d’envoi possible. Cependant, assure-toi de proposer uniquement celles qui sont pratiques pour toi.\\nLes modes d’envoi que tu peux offrir à tes acheteurs :\\nRemarque :\\n Pour les noms de pays, nous utilisons les abréviations suivantes : FR - France; ES - Espagne; BE - Belgique; LU - Luxembourg; NL - Pays-Bas.\\nTransporteur : Mondial Relay\\nSuivi : Oui\\nMode d'envoi : De / à point relais\\nPays : FR   FR; FR   ES; BE  BE; ES   ES; FR   BE; FR   LU; BE   BE; BE   LU\\n------\\nTransporteur : Chrono Shop2Shop\\nSuivi : Oui\\nMode d'envoi : De / à point relais\\nPays : FR   FR; FR   LU; FR   BE; FR   NL \\n------\\nTransporteur : La Poste\\nSuivi : Oui\\nMode d'envoi : D'un bureau de poste à l'adresse de l'acheteur\\nPays : FR   FR \\n------\\nTransporteur : Colissimo\\nSuivi : Oui\\nMode d'envoi : D'un bureau de poste à l'adresse de l'acheteur\\nPays : FR   BE; FR   ES; FR   NL \\n------\\nTransporteur : Bpost\\nSuivi : Oui\\nMode d'envoi : D'un bureau de poste à l'adresse de l'acheteur\\nPays : BE   BE; BE   ES; BE   FR; BE   NL; BE   LU\\n------\\nTransporteur : Correos Domicilio\\nSuivi : Oui\\nMode d'envoi : D'un bureau de poste à l'adresse de l'acheteur\\nPays : ES   ES\\n------\\nTransporteur : Correos Oficina\\nSuivi : Oui\\nMode d'envoi : D'un bureau de poste au bureau de poste\\nPays : ES   ES\\n------\\nTransporteur : Correos International\\nSuivi : Oui\\nMode d'envoi : D'un bureau de poste à l'adresse de l'acheteur\\nPays : ES   FR; ES   BE; ES   NL; ES   LU \\n------\\nTransporteur : PostNL\\nSuivi : Oui\\nMode d'envoi : D'un bureau de poste à l'adresse de l'acheteur\\nPays : NL   NL; NL   FR; NL   BE; NL   ES\\n------\\nTransporteur : PostLU\\nSuivi : Oui\\nMode d'envoi : D'un bureau de poste à l'adresse de l'acheteur\\nPays : LU   NL \\n------\\nTransporteur : DPD Pickup*\\nSuivi : Oui\\nMode d'envoi : D'un bureau de poste au bureau de poste\\nPays : NL   NL; NL   BE; NL   FR; NL   LU\\n------\\nTransporteur : DHL Home Delivery\\nSuivi : Oui\\nMode d'envoi : D'un point relais à l'adresse de l'acheteur\\nPays : BE   NL; ES   NL\\n------\\nTransporteur : DHL ServicePoint \\nSuivi : Oui\\nMode d'envoi : D'un bureau de poste à un point relais\\nPays : NL   NL; NL   BE; NL   FR; NL   ES\\n------\\nTransporteur : Frais de port personnalisés (mode de livraison de ton choix)\\nSuivi : Oui\\nMode d'envoi : Dépend du mode de livraison\\nPays : Dépend du mode de livraison\\n------\\n*Si ton acheteur vit en France et il choisit de recevoir son colis avec DPD Pickup, ton colis peut également arriver à un point relais Chrono Shop2Shop : cela dépend du lieu de livraison qu’il a choisi.\\nC'est l'acheteur qui décide du mode d'envoi\\nAvant d'appuyer sur le bouton\\nAcheter\\n , l'acheteur sélectionne le mode de livraison avec lequel tu dois lui envoyer l’article. Il est très important de respecter son choix. Dans le cas contraire, ta commande risque d’être\\nannulée\\n et l'acheteur, remboursé.\\nBon à savoir :\\nEn tant que vendeur, certaines options d'envoi activées par défaut. La variété de ces options dépendent de ton emplacement.\\nEn savoir plus sur les modes d’envoi et sur la façon de désactiver certaines d’entre eux\\n .\\nTes acheteurs voient les options d'envoi disponibles à côté du prix de chaque article.\\nLes frais d'envoi sont\\npayés par l'acheteur\\n après avoir été ajoutés au prix des articles.\\nDécouvre\\nles prix d'expédition\\n .\\nApprends-en plus sur\\nles étapes d'envoi\\n et\\net la manière d’emballer ton article\\n .\"]"
      ]
     },
     "execution_count": 20,
     "metadata": {},
     "output_type": "execute_result"
    }
   ],
   "source": [
    "liste_textes = []\n",
    "for url in url_nv4[96:97] :\n",
    "    print(url)\n",
    "    try :\n",
    "        html = urlopen(url)\n",
    "    except (HTTPError, URLError) as e :\n",
    "        sys.exit(e)\n",
    "\n",
    "    bsObj = BeautifulSoup(html, \"lxml\")\n",
    "    maDiv = bsObj.find(\"div\", class_=\"site\").find(\"div\", class_=\"body-content\").find(\"div\", class_=\"faq__question-answer faq-content\")\n",
    "    texte = getSelectedText(maDiv).strip().replace('\\xa0', ' ').replace('\\u200b', ' ').replace('\\u2192', ' ').replace('\\u2194', ' ').replace('\\u2028', ' ')\n",
    "    liste_textes.append(texte)\n",
    "liste_textes[0:3]"
   ]
  },
  {
   "cell_type": "code",
   "execution_count": 21,
   "metadata": {},
   "outputs": [
    {
     "name": "stdout",
     "output_type": "stream",
     "text": [
      "Options d'envoi pour les vendeurs\n",
      "Pour vendre plus rapidement, nous te conseillons d’offrir à tes acheteurs le plus d’options d’envoi possible. Cependant, assure-toi de proposer uniquement celles qui sont pratiques pour toi.\n",
      "Les modes d’envoi que tu peux offrir à tes acheteurs :\n",
      "Remarque :\n",
      " Pour les noms de pays, nous utilisons les abréviations suivantes : FR - France; ES - Espagne; BE - Belgique; LU - Luxembourg; NL - Pays-Bas.\n",
      "Transporteur : Mondial Relay\n",
      "Suivi : Oui\n",
      "Mode d'envoi : De / à point relais\n",
      "Pays : FR   FR; FR   ES; BE  BE; ES   ES; FR   BE; FR   LU; BE   BE; BE   LU\n",
      "------\n",
      "Transporteur : Chrono Shop2Shop\n",
      "Suivi : Oui\n",
      "Mode d'envoi : De / à point relais\n",
      "Pays : FR   FR; FR   LU; FR   BE; FR   NL \n",
      "------\n",
      "Transporteur : La Poste\n",
      "Suivi : Oui\n",
      "Mode d'envoi : D'un bureau de poste à l'adresse de l'acheteur\n",
      "Pays : FR   FR \n",
      "------\n",
      "Transporteur : Colissimo\n",
      "Suivi : Oui\n",
      "Mode d'envoi : D'un bureau de poste à l'adresse de l'acheteur\n",
      "Pays : FR   BE; FR   ES; FR   NL \n",
      "------\n",
      "Transporteur : Bpost\n",
      "Suivi : Oui\n",
      "Mode d'envoi : D'un bureau de poste à l'adresse de l'acheteur\n",
      "Pays : BE   BE; BE   ES; BE   FR; BE   NL; BE   LU\n",
      "------\n",
      "Transporteur : Correos Domicilio\n",
      "Suivi : Oui\n",
      "Mode d'envoi : D'un bureau de poste à l'adresse de l'acheteur\n",
      "Pays : ES   ES\n",
      "------\n",
      "Transporteur : Correos Oficina\n",
      "Suivi : Oui\n",
      "Mode d'envoi : D'un bureau de poste au bureau de poste\n",
      "Pays : ES   ES\n",
      "------\n",
      "Transporteur : Correos International\n",
      "Suivi : Oui\n",
      "Mode d'envoi : D'un bureau de poste à l'adresse de l'acheteur\n",
      "Pays : ES   FR; ES   BE; ES   NL; ES   LU \n",
      "------\n",
      "Transporteur : PostNL\n",
      "Suivi : Oui\n",
      "Mode d'envoi : D'un bureau de poste à l'adresse de l'acheteur\n",
      "Pays : NL   NL; NL   FR; NL   BE; NL   ES\n",
      "------\n",
      "Transporteur : PostLU\n",
      "Suivi : Oui\n",
      "Mode d'envoi : D'un bureau de poste à l'adresse de l'acheteur\n",
      "Pays : LU   NL \n",
      "------\n",
      "Transporteur : DPD Pickup*\n",
      "Suivi : Oui\n",
      "Mode d'envoi : D'un bureau de poste au bureau de poste\n",
      "Pays : NL   NL; NL   BE; NL   FR; NL   LU\n",
      "------\n",
      "Transporteur : DHL Home Delivery\n",
      "Suivi : Oui\n",
      "Mode d'envoi : D'un point relais à l'adresse de l'acheteur\n",
      "Pays : BE   NL; ES   NL\n",
      "------\n",
      "Transporteur : DHL ServicePoint \n",
      "Suivi : Oui\n",
      "Mode d'envoi : D'un bureau de poste à un point relais\n",
      "Pays : NL   NL; NL   BE; NL   FR; NL   ES\n",
      "------\n",
      "Transporteur : Frais de port personnalisés (mode de livraison de ton choix)\n",
      "Suivi : Oui\n",
      "Mode d'envoi : Dépend du mode de livraison\n",
      "Pays : Dépend du mode de livraison\n",
      "------\n",
      "*Si ton acheteur vit en France et il choisit de recevoir son colis avec DPD Pickup, ton colis peut également arriver à un point relais Chrono Shop2Shop : cela dépend du lieu de livraison qu’il a choisi.\n",
      "C'est l'acheteur qui décide du mode d'envoi\n",
      "Avant d'appuyer sur le bouton\n",
      "Acheter\n",
      " , l'acheteur sélectionne le mode de livraison avec lequel tu dois lui envoyer l’article. Il est très important de respecter son choix. Dans le cas contraire, ta commande risque d’être\n",
      "annulée\n",
      " et l'acheteur, remboursé.\n",
      "Bon à savoir :\n",
      "En tant que vendeur, certaines options d'envoi activées par défaut. La variété de ces options dépendent de ton emplacement.\n",
      "En savoir plus sur les modes d’envoi et sur la façon de désactiver certaines d’entre eux\n",
      " .\n",
      "Tes acheteurs voient les options d'envoi disponibles à côté du prix de chaque article.\n",
      "Les frais d'envoi sont\n",
      "payés par l'acheteur\n",
      " après avoir été ajoutés au prix des articles.\n",
      "Découvre\n",
      "les prix d'expédition\n",
      " .\n",
      "Apprends-en plus sur\n",
      "les étapes d'envoi\n",
      " et\n",
      "et la manière d’emballer ton article\n",
      " .\n"
     ]
    }
   ],
   "source": [
    "for elem in liste_textes[0].split('\\n') :\n",
    "    print(elem)"
   ]
  },
  {
   "cell_type": "markdown",
   "metadata": {},
   "source": [
    "### Récupérer toutes les questions : "
   ]
  },
  {
   "cell_type": "code",
   "execution_count": 4,
   "metadata": {},
   "outputs": [
    {
     "data": {
      "text/plain": [
       "['Comment ça marche',\n",
       " 'Vendre',\n",
       " 'Acheter',\n",
       " 'Envoi',\n",
       " 'Paiements et transferts',\n",
       " 'Confiance et sécurité',\n",
       " 'Mon compte & Paramètres',\n",
       " 'Communauté',\n",
       " 'Se connecter']"
      ]
     },
     "execution_count": 4,
     "metadata": {},
     "output_type": "execute_result"
    }
   ],
   "source": [
    "url = \"https://www.vinted.fr/help\"\n",
    "response_2 = requests.get(url)\n",
    "\n",
    "question = (BeautifulSoup(response_2.text)\n",
    "          .select(\"html body div.site div.container div.faq div.faq__categories  div.faq__category-title\"))\n",
    "\n",
    "liste_categories = []\n",
    "for i in range(0,len(question)) :\n",
    "    liste_categories.append( question[i].text.strip() )\n",
    "liste_categories"
   ]
  },
  {
   "cell_type": "code",
   "execution_count": 5,
   "metadata": {},
   "outputs": [
    {
     "data": {
      "text/plain": [
       "{'Comment ça marche': [],\n",
       " 'Vendre': [],\n",
       " 'Acheter': [],\n",
       " 'Envoi': [],\n",
       " 'Paiements et transferts': [],\n",
       " 'Confiance et sécurité': [],\n",
       " 'Mon compte & Paramètres': [],\n",
       " 'Communauté': [],\n",
       " 'Se connecter': []}"
      ]
     },
     "execution_count": 5,
     "metadata": {},
     "output_type": "execute_result"
    }
   ],
   "source": [
    "dico_categories = {}\n",
    "for i in range(0,len(question)) :\n",
    "    dico_categories[ question[i].text.strip() ] = []\n",
    "dico_categories"
   ]
  },
  {
   "cell_type": "code",
   "execution_count": 31,
   "metadata": {},
   "outputs": [
    {
     "data": {
      "text/plain": [
       "'Comment ça marche'"
      ]
     },
     "execution_count": 31,
     "metadata": {},
     "output_type": "execute_result"
    }
   ],
   "source": [
    "liste_categories[0]"
   ]
  },
  {
   "cell_type": "code",
   "execution_count": 38,
   "metadata": {},
   "outputs": [
    {
     "data": {
      "text/plain": [
       "['https://www.vinted.fr/help/16-comment-ca-marche',\n",
       " 'https://www.vinted.fr/help/4-vendre',\n",
       " 'https://www.vinted.fr/help/5-acheter',\n",
       " 'https://www.vinted.fr/help/313-envoi',\n",
       " 'https://www.vinted.fr/help/418-paiements-et-transferts',\n",
       " 'https://www.vinted.fr/help/15-confiance-et-securite',\n",
       " 'https://www.vinted.fr/help/392-mon-compte-parametres',\n",
       " 'https://www.vinted.fr/help/383-communaute',\n",
       " 'https://www.vinted.fr/help/103-se-connecter']"
      ]
     },
     "execution_count": 38,
     "metadata": {},
     "output_type": "execute_result"
    }
   ],
   "source": [
    "urls"
   ]
  },
  {
   "cell_type": "code",
   "execution_count": 8,
   "metadata": {},
   "outputs": [
    {
     "data": {
      "text/plain": [
       "{'Comment ça marche': ['Vendre, étape par étape',\n",
       "  'Acheter sur Vinted : toutes les étapes',\n",
       "  \"Vendre sur Vinted, c'est gratuit ?\",\n",
       "  'Comment partager mon retour d’expérience sur Vinted ?',\n",
       "  \"Comment utiliser le Centre d'aide ?\"],\n",
       " 'Vendre': ['Vendre sur Vinted',\n",
       "  'Télécharger un article',\n",
       "  'Vendre plus vite',\n",
       "  'Envoyer un article',\n",
       "  'Recevoir son paiement',\n",
       "  'Évaluations & Communication',\n",
       "  'Retours et annulations',\n",
       "  'Mes articles'],\n",
       " 'Acheter': [\"Processus d'achat\",\n",
       "  'Trouver un article',\n",
       "  'Acheter un article',\n",
       "  'Faire un paiement',\n",
       "  'Envoi d’un article',\n",
       "  'Évaluations & Communication',\n",
       "  'Remboursements et annulations'],\n",
       " 'Envoi': ['Politique de remboursement de Vinted',\n",
       "  'Je suis vendeur',\n",
       "  'Je suis acheteur'],\n",
       " 'Paiements et transferts': ['Méthodes de paiement',\n",
       "  'Porte-monnaie Vinted',\n",
       "  'Versements'],\n",
       " 'Confiance et sécurité': ['Protection acheteurs',\n",
       "  'Protection vendeurs',\n",
       "  'Sécurité et sérénité',\n",
       "  'Utilisation et protection des données personnelles',\n",
       "  'Vérification d’identité',\n",
       "  'Règles du Catalogue',\n",
       "  'Règles du Forum et de la Communauté Vinted'],\n",
       " 'Mon compte & Paramètres': ['Paramètres de mon catalogue',\n",
       "  'Détails du profil',\n",
       "  'Paramètres des Paiements & Envois',\n",
       "  'Porte-monnaie Vinted',\n",
       "  'Personnalisation',\n",
       "  'Parrainages',\n",
       "  'Notifications et e-mails',\n",
       "  'Pourquoi mon compte a-t-il été bloqué ?',\n",
       "  'Comment résoudre un bug ?'],\n",
       " 'Communauté': ['Forum', 'Les membres'],\n",
       " 'Se connecter': ['Je me suis inscrit avec une mauvaise adresse e-mail',\n",
       "  'Je n’ai pas de compte, mais je reçois des courriels de Vinted',\n",
       "  \"Comment s'inscrire sur Vinted ?\",\n",
       "  'Tu n’arrives pas à te connecter à ton compte ?',\n",
       "  'Pourquoi mon compte a-t-il été bloqué ?',\n",
       "  'Pourquoi mon adresse IP a-t-elle été bloquée ?',\n",
       "  'Comment changer mon mot de passe ?',\n",
       "  \"J’essaie de m'inscrire sur Vinted, mais mon adresse e-mail est prise\"]}"
      ]
     },
     "execution_count": 8,
     "metadata": {},
     "output_type": "execute_result"
    }
   ],
   "source": [
    "for num_url in range(0,len(urls)) :\n",
    "    categorie_nv2= []\n",
    "    response_nv2 = requests.get(urls[num_url])\n",
    "    cat_nv2 = (BeautifulSoup(response_nv2.text).select(\"html body div.site div.container div.faq div.c-cell__title\"))\n",
    "    for elem in range(0,len(cat_nv2)) :\n",
    "        dico_categories[liste_categories[num_url]].append(cat_nv2[elem].text.strip())\n",
    "dico_categories"
   ]
  },
  {
   "cell_type": "markdown",
   "metadata": {},
   "source": [
    "#### Concaténer les catégories/questions ensemble :"
   ]
  },
  {
   "cell_type": "code",
   "execution_count": 9,
   "metadata": {},
   "outputs": [
    {
     "data": {
      "text/plain": [
       "['Comment ça marche Vendre, étape par étape',\n",
       " 'Comment ça marche Acheter sur Vinted : toutes les étapes',\n",
       " \"Comment ça marche Vendre sur Vinted, c'est gratuit ?\",\n",
       " 'Comment ça marche Comment partager mon retour d’expérience sur Vinted ?',\n",
       " \"Comment ça marche Comment utiliser le Centre d'aide ?\",\n",
       " 'Vendre Vendre sur Vinted',\n",
       " 'Vendre Télécharger un article',\n",
       " 'Vendre Vendre plus vite',\n",
       " 'Vendre Envoyer un article',\n",
       " 'Vendre Recevoir son paiement',\n",
       " 'Vendre Évaluations & Communication',\n",
       " 'Vendre Retours et annulations',\n",
       " 'Vendre Mes articles',\n",
       " \"Acheter Processus d'achat\",\n",
       " 'Acheter Trouver un article',\n",
       " 'Acheter Acheter un article',\n",
       " 'Acheter Faire un paiement',\n",
       " 'Acheter Envoi d’un article',\n",
       " 'Acheter Évaluations & Communication',\n",
       " 'Acheter Remboursements et annulations',\n",
       " 'Envoi Politique de remboursement de Vinted',\n",
       " 'Envoi Je suis vendeur',\n",
       " 'Envoi Je suis acheteur',\n",
       " 'Paiements et transferts Méthodes de paiement',\n",
       " 'Paiements et transferts Porte-monnaie Vinted',\n",
       " 'Paiements et transferts Versements',\n",
       " 'Confiance et sécurité Protection acheteurs',\n",
       " 'Confiance et sécurité Protection vendeurs',\n",
       " 'Confiance et sécurité Sécurité et sérénité',\n",
       " 'Confiance et sécurité Utilisation et protection des données personnelles',\n",
       " 'Confiance et sécurité Vérification d’identité',\n",
       " 'Confiance et sécurité Règles du Catalogue',\n",
       " 'Confiance et sécurité Règles du Forum et de la Communauté Vinted',\n",
       " 'Mon compte & Paramètres Paramètres de mon catalogue',\n",
       " 'Mon compte & Paramètres Détails du profil',\n",
       " 'Mon compte & Paramètres Paramètres des Paiements & Envois',\n",
       " 'Mon compte & Paramètres Porte-monnaie Vinted',\n",
       " 'Mon compte & Paramètres Personnalisation',\n",
       " 'Mon compte & Paramètres Parrainages',\n",
       " 'Mon compte & Paramètres Notifications et e-mails',\n",
       " 'Mon compte & Paramètres Pourquoi mon compte a-t-il été bloqué ?',\n",
       " 'Mon compte & Paramètres Comment résoudre un bug ?',\n",
       " 'Communauté Forum',\n",
       " 'Communauté Les membres',\n",
       " 'Se connecter Je me suis inscrit avec une mauvaise adresse e-mail',\n",
       " 'Se connecter Je n’ai pas de compte, mais je reçois des courriels de Vinted',\n",
       " \"Se connecter Comment s'inscrire sur Vinted ?\",\n",
       " 'Se connecter Tu n’arrives pas à te connecter à ton compte ?',\n",
       " 'Se connecter Pourquoi mon compte a-t-il été bloqué ?',\n",
       " 'Se connecter Pourquoi mon adresse IP a-t-elle été bloquée ?',\n",
       " 'Se connecter Comment changer mon mot de passe ?',\n",
       " \"Se connecter J’essaie de m'inscrire sur Vinted, mais mon adresse e-mail est prise\"]"
      ]
     },
     "execution_count": 9,
     "metadata": {},
     "output_type": "execute_result"
    }
   ],
   "source": [
    "liste_categories = []\n",
    "for key, categorie in dico_categories.items():\n",
    "    for value in categorie :\n",
    "        liste_categories.append(key + ' ' + value)\n",
    "liste_categories"
   ]
  },
  {
   "cell_type": "code",
   "execution_count": 10,
   "metadata": {},
   "outputs": [],
   "source": [
    "# with open('concat_categories_nv2.txt', 'w') as f:\n",
    "#     for question in liste_categories:\n",
    "#         f.write(f'{str(question)}|#|')"
   ]
  },
  {
   "cell_type": "code",
   "execution_count": 11,
   "metadata": {},
   "outputs": [],
   "source": [
    "liste_categories = open(\"concat_categories_nv2.txt\", \"r\")\n",
    "liste_categories = liste_categories.read().split(\"|#|\")\n",
    "liste_categories = liste_categories[:-1]"
   ]
  },
  {
   "cell_type": "markdown",
   "metadata": {},
   "source": [
    "## Questions niveau 2 :"
   ]
  },
  {
   "cell_type": "code",
   "execution_count": 17,
   "metadata": {},
   "outputs": [],
   "source": [
    "liste_concat2 =[]\n",
    "num=0\n",
    "\n",
    "for url in urls_nv_2 : \n",
    "    response_2 = requests.get(url)\n",
    "    question = (BeautifulSoup(response_2.text)\n",
    "          .select(\"html body div.site div.container div.faq div.c-cell__title\"))\n",
    "    if question != [] :\n",
    "        for i in range(0,len(question)) :\n",
    "            liste_concat2.append( liste_categories[num] + ' ' + question[i].text.strip() )\n",
    "    else:\n",
    "        liste_concat2.append( liste_categories[num] )\n",
    "    print(num)\n",
    "    num+=1"
   ]
  },
  {
   "cell_type": "code",
   "execution_count": 36,
   "metadata": {},
   "outputs": [],
   "source": [
    "def concat_question(urls_nv_, liste_categories):\n",
    "    liste_concat2 =[]\n",
    "    num=0\n",
    "\n",
    "    for url in urls_nv_ : \n",
    "            response_2 = requests.get(url)\n",
    "            question = (BeautifulSoup(response_2.text)\n",
    "                  .select(\"html body div.site div.container div.faq div.c-cell__title\"))\n",
    "            if question != [] :\n",
    "                for i in range(0,len(question)) :\n",
    "                    liste_concat2.append( liste_categories[num] + ' ' + question[i].text.strip() )\n",
    "            else:\n",
    "                liste_concat2.append( liste_categories[num] )\n",
    "            #print(num)\n",
    "            num+=1\n",
    "    return liste_concat2"
   ]
  },
  {
   "cell_type": "code",
   "execution_count": 37,
   "metadata": {},
   "outputs": [],
   "source": [
    "liste_concat2 = concat_question(urls_nv_2, liste_categories)"
   ]
  },
  {
   "cell_type": "code",
   "execution_count": 22,
   "metadata": {},
   "outputs": [
    {
     "data": {
      "text/plain": [
       "52"
      ]
     },
     "execution_count": 22,
     "metadata": {},
     "output_type": "execute_result"
    }
   ],
   "source": [
    "len(liste_categories)"
   ]
  },
  {
   "cell_type": "code",
   "execution_count": 15,
   "metadata": {},
   "outputs": [
    {
     "data": {
      "text/plain": [
       "216"
      ]
     },
     "execution_count": 15,
     "metadata": {},
     "output_type": "execute_result"
    }
   ],
   "source": [
    "len(liste_concat2)"
   ]
  },
  {
   "cell_type": "code",
   "execution_count": 16,
   "metadata": {},
   "outputs": [],
   "source": [
    "# with open('concat_categories_nv3.txt', 'w') as f:\n",
    "#     for question in liste_concat2:\n",
    "#         f.write(f'{str(question)}|#|')"
   ]
  },
  {
   "cell_type": "code",
   "execution_count": 18,
   "metadata": {},
   "outputs": [],
   "source": [
    "liste_concat2 = open(\"concat_categories_nv3.txt\", \"r\")\n",
    "liste_concat2 = liste_concat2.read().split(\"|#|\")\n",
    "liste_concat2 = liste_concat2[:-1]"
   ]
  },
  {
   "cell_type": "code",
   "execution_count": 19,
   "metadata": {},
   "outputs": [
    {
     "data": {
      "text/plain": [
       "52"
      ]
     },
     "execution_count": 19,
     "metadata": {},
     "output_type": "execute_result"
    }
   ],
   "source": [
    "len(liste_categories)"
   ]
  },
  {
   "cell_type": "markdown",
   "metadata": {},
   "source": [
    "## Question niveau 3 :"
   ]
  },
  {
   "cell_type": "code",
   "execution_count": 38,
   "metadata": {},
   "outputs": [
    {
     "data": {
      "text/plain": [
       "['Comment ça marche Vendre, étape par étape',\n",
       " 'Comment ça marche Acheter sur Vinted : toutes les étapes',\n",
       " \"Comment ça marche Vendre sur Vinted, c'est gratuit ?\",\n",
       " 'Comment ça marche Comment partager mon retour d’expérience sur Vinted ?',\n",
       " \"Comment ça marche Comment utiliser le Centre d'aide ?\",\n",
       " 'Vendre Vendre sur Vinted Ajouter un article étape par étape',\n",
       " 'Vendre Vendre sur Vinted Vendre, étape par étape',\n",
       " \"Vendre Vendre sur Vinted Vendre sur Vinted, c'est gratuit ?\",\n",
       " \"Vendre Vendre sur Vinted Qu'est-ce que je peux vendre sur Vinted ?\",\n",
       " 'Vendre Vendre sur Vinted Comment échanger un article',\n",
       " 'Vendre Télécharger un article Ajouter un article étape par étape',\n",
       " 'Vendre Télécharger un article Quelles photos dois-je mettre en ligne pour mes articles de marque ?',\n",
       " 'Vendre Télécharger un article Comment prendre de bonnes photos ?',\n",
       " 'Vendre Télécharger un article Comment bien décrire mon article ?',\n",
       " \"Vendre Télécharger un article Comment choisir l'état de mon article ?\",\n",
       " 'Vendre Télécharger un article Comment sélectionner une marque ?',\n",
       " 'Vendre Télécharger un article Comment fixer un bon prix ?',\n",
       " 'Vendre Télécharger un article Comment choisir le format de mon colis ?',\n",
       " 'Vendre Télécharger un article Comment vendre un lot',\n",
       " 'Vendre Télécharger un article Remettre un article en ligne',\n",
       " \"Vendre Télécharger un article En quoi consistent les brouillons d'articles ?\",\n",
       " 'Vendre Vendre plus vite Vends tes articles plus vite',\n",
       " \"Vendre Vendre plus vite Pourquoi ai-je besoin d'abonnés ?\",\n",
       " 'Vendre Vendre plus vite Comment remonter mes articles en haut  du catalogue ?',\n",
       " 'Vendre Vendre plus vite Comment acheter un Boost ?',\n",
       " 'Vendre Vendre plus vite Comment faire une offre à mon acheteur ?',\n",
       " 'Vendre Vendre plus vite En quoi consiste Dressing en Vitrine ?',\n",
       " 'Vendre Vendre plus vite Comment paramétrer des réductions sur mon catalogue ?',\n",
       " 'Vendre Envoyer un article Le vendeur peut-il modifier le mode de livraison ?',\n",
       " 'Vendre Envoyer un article Qui paie les frais de port ?',\n",
       " 'Vendre Envoyer un article Comment emballer mon article ?',\n",
       " \"Vendre Envoyer un article Comment envoyer l'article ?\",\n",
       " 'Vendre Envoyer un article Sous quel délai dois-je envoyer mon article ?',\n",
       " 'Vendre Envoyer un article Comment suivre ton colis ?',\n",
       " 'Vendre Envoyer un article Combien de temps prend la livraison ?',\n",
       " 'Vendre Recevoir son paiement Quelles infos dois-je entrer pour transférer mon argent ?',\n",
       " 'Vendre Recevoir son paiement En quoi consiste le porte-monnaie Vinted ?',\n",
       " 'Vendre Recevoir son paiement Pourquoi le paiement est-il « en attente » ?',\n",
       " 'Vendre Recevoir son paiement Le système de paiement sécurisé de Vinted',\n",
       " \"Vendre Recevoir son paiement Comment recevoir l'argent de mes ventes sur mon compte bancaire ?\",\n",
       " 'Vendre Recevoir son paiement Quand est-ce que le vendeur recevra son paiement?',\n",
       " 'Vendre Recevoir son paiement Mon transfert a échoué',\n",
       " 'Vendre Recevoir son paiement Le transfert est revenu dans mon porte-monnaie',\n",
       " \"Vendre Recevoir son paiement Le transfert n'apparaît pas sur mon compte bancaire\",\n",
       " 'Vendre Recevoir son paiement Comment recevoir mes paiements sur PayPal ou iDEAL ?',\n",
       " 'Vendre Évaluations & Communication Standards de la communauté Vinted',\n",
       " 'Vendre Évaluations & Communication Comment laisser une évaluation ?',\n",
       " 'Vendre Évaluations & Communication Pourquoi ai-je reçu une évaluation négative de la part de Vinted ?',\n",
       " 'Vendre Évaluations & Communication Est ce que Vinted peut me retirer une évaluation négative ?',\n",
       " 'Vendre Évaluations & Communication Comment fonctionne le système d’évaluation ?',\n",
       " 'Vendre Retours et annulations Pourquoi Vinted a annulé ma transaction ?',\n",
       " 'Vendre Retours et annulations Est-ce que je peux retourner l’article reçu ?',\n",
       " 'Vendre Retours et annulations Est-il possible d’annuler ma transaction\\xa0?',\n",
       " 'Vendre Retours et annulations Politique de remboursement de Vinted',\n",
       " 'Vendre Mes articles Mettre un article dans mes favoris',\n",
       " 'Vendre Mes articles Comment indiquer que mon article est réservé ?',\n",
       " \"Vendre Mes articles Quelle est la politique d'authenticité de Vinted ?\",\n",
       " 'Vendre Mes articles Comment masquer mes articles ?',\n",
       " \"Vendre Mes articles Qu'est-ce que je peux vendre sur Vinted ?\",\n",
       " 'Vendre Mes articles Pourquoi mon article a-t-il été masqué ou supprimé ?',\n",
       " 'Vendre Mes articles Pourquoi mon article a-t-il peu de visites ?',\n",
       " \"Acheter Processus d'achat Conseils pour tes achats\",\n",
       " \"Acheter Processus d'achat Acheter sur Vinted : toutes les étapes\",\n",
       " \"Acheter Processus d'achat La protection acheteurs Vinted\",\n",
       " \"Acheter Processus d'achat Comment échanger un article\",\n",
       " 'Acheter Trouver un article Comment personnaliser Vinted ?',\n",
       " 'Acheter Trouver un article Abonne-toi aux recherches',\n",
       " 'Acheter Trouver un article En quoi consiste la personnalisation ?',\n",
       " 'Acheter Acheter un article Conseils pour tes achats',\n",
       " 'Acheter Acheter un article Mettre un article dans mes favoris',\n",
       " 'Acheter Acheter un article Trouver un article',\n",
       " \"Acheter Acheter un article Que faire si l'acheteur a déjà reçu l'article ?\",\n",
       " 'Acheter Acheter un article Comment faire un lot',\n",
       " 'Acheter Acheter un article La protection acheteurs Vinted',\n",
       " 'Acheter Acheter un article Comment faire une offre au vendeur ?',\n",
       " 'Acheter Faire un paiement Les méthodes de paiement acceptées',\n",
       " 'Acheter Faire un paiement Ajouter/modifier une carte de crédit',\n",
       " 'Acheter Faire un paiement La protection acheteurs Vinted',\n",
       " \"Acheter Faire un paiement Comment utiliser un bon d'achat Vinted ?\",\n",
       " 'Acheter Faire un paiement Pourquoi mon paiement a-t-il échoué ?',\n",
       " 'Acheter Faire un paiement Comment Vinted sécurise les paiements bancaires ?',\n",
       " 'Acheter Faire un paiement Politique de remboursement de Vinted',\n",
       " 'Acheter Envoi d’un article Comment modifier mon adresse ?',\n",
       " 'Acheter Envoi d’un article Comment suivre ton colis ?',\n",
       " 'Acheter Envoi d’un article Combien de temps prend la livraison ?',\n",
       " 'Acheter Envoi d’un article Est-ce que je peux retourner l’article reçu ?',\n",
       " 'Acheter Évaluations & Communication Standards de la communauté Vinted',\n",
       " 'Acheter Évaluations & Communication Comment laisser une évaluation ?',\n",
       " 'Acheter Évaluations & Communication Pourquoi ai-je reçu une évaluation négative de la part de Vinted ?',\n",
       " 'Acheter Évaluations & Communication Est ce que Vinted peut me retirer une évaluation négative ?',\n",
       " 'Acheter Évaluations & Communication Comment fonctionne le système d’évaluation ?',\n",
       " 'Acheter Remboursements et annulations Pourquoi Vinted a annulé ma transaction ?',\n",
       " 'Acheter Remboursements et annulations Est-ce que je peux retourner l’article reçu ?',\n",
       " 'Acheter Remboursements et annulations Est-il possible d’annuler ma transaction\\xa0?',\n",
       " 'Acheter Remboursements et annulations Politique de remboursement de Vinted',\n",
       " 'Envoi Politique de remboursement de Vinted',\n",
       " \"Envoi Je suis vendeur Options d'envoi pour les vendeurs\",\n",
       " 'Envoi Je suis vendeur Comment fonctionnent les frais de port personnalisés\\xa0?',\n",
       " 'Envoi Je suis vendeur Comment modifier les modes de livraison ?',\n",
       " 'Envoi Je suis vendeur Que dois-je savoir à propos de Chrono Shop2Shop ?',\n",
       " 'Envoi Je suis vendeur Envoi international - guide pour les vendeurs',\n",
       " \"Envoi Je suis vendeur Instructions d'expédition pour chaque mode d’envoi\",\n",
       " 'Envoi Je suis vendeur Le vendeur peut-il modifier le mode de livraison ?',\n",
       " 'Envoi Je suis vendeur Comment ajouter une preuve d’envoi / numéro de suivi sur Vinted ?',\n",
       " 'Envoi Je suis vendeur Qui paie les frais de port ?',\n",
       " 'Envoi Je suis vendeur Comment emballer mon article ?',\n",
       " \"Envoi Je suis vendeur Comment envoyer l'article ?\",\n",
       " 'Envoi Je suis vendeur Comment choisir le format de mon colis ?',\n",
       " \"Envoi Je suis vendeur Je ne parviens pas à télécharger le bordereau d'envoi\",\n",
       " 'Envoi Je suis vendeur Sous quel délai dois-je envoyer mon article ?',\n",
       " 'Envoi Je suis vendeur Comment suivre ton colis ?',\n",
       " 'Envoi Je suis vendeur Politique de remboursement de Vinted',\n",
       " \"Envoi Je suis acheteur Comment fonctionne la livraison d'un colis ?\",\n",
       " \"Envoi Je suis acheteur Options d'envoi pour les acheteurs\",\n",
       " 'Envoi Je suis acheteur Envoi international - guide pour les acheteurs',\n",
       " 'Envoi Je suis acheteur Comment modifier mon adresse ?',\n",
       " 'Envoi Je suis acheteur Comment suivre ton colis ?',\n",
       " 'Envoi Je suis acheteur Combien de temps prend la livraison ?',\n",
       " 'Envoi Je suis acheteur Est-ce que je peux retourner l’article reçu ?',\n",
       " 'Paiements et transferts Méthodes de paiement Les méthodes de paiement acceptées',\n",
       " 'Paiements et transferts Méthodes de paiement Quand est-ce que le vendeur recevra son paiement?',\n",
       " 'Paiements et transferts Méthodes de paiement Ajouter/modifier une carte de crédit',\n",
       " 'Paiements et transferts Méthodes de paiement Utiliser PayPal sur Vinted',\n",
       " \"Paiements et transferts Méthodes de paiement Comment utiliser un bon d'achat Vinted ?\",\n",
       " 'Paiements et transferts Méthodes de paiement Pourquoi mon paiement a-t-il échoué ?',\n",
       " 'Paiements et transferts Méthodes de paiement Comment Vinted sécurise les paiements bancaires ?',\n",
       " 'Paiements et transferts Porte-monnaie Vinted En quoi consiste le porte-monnaie Vinted ?',\n",
       " 'Paiements et transferts Porte-monnaie Vinted Comment activer mon porte-monnaie Vinted ?',\n",
       " 'Paiements et transferts Versements Quelles infos dois-je entrer pour transférer mon argent ?',\n",
       " 'Paiements et transferts Versements Pourquoi le paiement est-il « en attente » ?',\n",
       " \"Paiements et transferts Versements Comment recevoir l'argent de mes ventes sur mon compte bancaire ?\",\n",
       " 'Paiements et transferts Versements Comment modifier mes informations bancaires ?',\n",
       " 'Paiements et transferts Versements Mon transfert a échoué',\n",
       " 'Paiements et transferts Versements Le transfert est revenu dans mon porte-monnaie',\n",
       " \"Paiements et transferts Versements Le transfert n'apparaît pas sur mon compte bancaire\",\n",
       " 'Paiements et transferts Versements Comment recevoir mes paiements sur PayPal ou iDEAL ?',\n",
       " 'Confiance et sécurité Protection acheteurs Protection acheteurs',\n",
       " 'Confiance et sécurité Protection acheteurs Mes achats sont-ils sécurisés ?',\n",
       " 'Confiance et sécurité Protection acheteurs Est-ce que je peux retourner l’article reçu ?',\n",
       " 'Confiance et sécurité Protection acheteurs Comment Vinted sécurise les paiements bancaires ?',\n",
       " 'Confiance et sécurité Protection acheteurs Politique de remboursement de Vinted',\n",
       " 'Confiance et sécurité Protection vendeurs Sécurité et support pour les vendeurs',\n",
       " 'Confiance et sécurité Protection vendeurs Mes ventes sont-elles sécurisées ?',\n",
       " 'Confiance et sécurité Protection vendeurs Politique de remboursement de Vinted',\n",
       " 'Confiance et sécurité Sécurité et sérénité Blocage Comment bloquer un autre membre ?',\n",
       " 'Confiance et sécurité Sécurité et sérénité Blocage Pourquoi mon compte a-t-il été bloqué ?',\n",
       " 'Confiance et sécurité Sécurité et sérénité Blocage Pourquoi mon adresse IP a-t-elle été bloquée ?',\n",
       " 'Confiance et sécurité Sécurité et sérénité Signalement Comment signaler un membre ?',\n",
       " 'Confiance et sécurité Sécurité et sérénité Signalement Comment signaler un message privé\\xa0?',\n",
       " 'Confiance et sécurité Sécurité et sérénité Signalement Comment signaler un article ?',\n",
       " 'Confiance et sécurité Sécurité et sérénité Signalement Comment signaler un contenu inapproprié sur le forum?',\n",
       " 'Confiance et sécurité Sécurité et sérénité Reconnaître les messages frauduleux et les tentatives de hameçonnage',\n",
       " 'Confiance et sécurité Sécurité et sérénité Comment puis-je éviter les fraudes ?',\n",
       " \"Confiance et sécurité Utilisation et protection des données personnelles RGPD : qu'est-ce que cela signifie pour moi en tant que membre de Vinted ?\",\n",
       " 'Confiance et sécurité Utilisation et protection des données personnelles Mes données personnelles sont-elles sécurisées ?',\n",
       " \"Confiance et sécurité Vérification d’identité Pourquoi dois-je vous envoyer ma pièce d'identité ?\",\n",
       " 'Confiance et sécurité Vérification d’identité Vérification en deux étapes : fonctionnement',\n",
       " \"Confiance et sécurité Vérification d’identité Vérification de l'achat\",\n",
       " 'Confiance et sécurité Vérification d’identité Confirme ton identité pour changer ton adresse e-mail',\n",
       " 'Confiance et sécurité Vérification d’identité La vérification du numéro de téléphone n’a pas fonctionné',\n",
       " 'Confiance et sécurité Vérification d’identité Comment changer mon adresse e-mail ?',\n",
       " 'Confiance et sécurité Vérification d’identité Comment faire vérifier mon compte avec Google/Facebook\\xa0?',\n",
       " \"Confiance et sécurité Règles du Catalogue Quelle est la politique d'authenticité de Vinted ?\",\n",
       " \"Confiance et sécurité Règles du Catalogue Qu'est-ce que je peux vendre sur Vinted ?\",\n",
       " 'Confiance et sécurité Règles du Catalogue Pourquoi mon article a-t-il été masqué ou supprimé ?',\n",
       " 'Confiance et sécurité Règles du Forum et de la Communauté Vinted Règles du forum',\n",
       " 'Confiance et sécurité Règles du Forum et de la Communauté Vinted Standards de la communauté Vinted',\n",
       " 'Confiance et sécurité Règles du Forum et de la Communauté Vinted Pourquoi mon sujet/commentaire a-t-il été supprimé ?',\n",
       " 'Confiance et sécurité Règles du Forum et de la Communauté Vinted Comment signaler un contenu inapproprié sur le forum?',\n",
       " 'Mon compte & Paramètres Paramètres de mon catalogue Comment indiquer que mon article est réservé ?',\n",
       " 'Mon compte & Paramètres Paramètres de mon catalogue Comment remonter mes articles en haut  du catalogue ?',\n",
       " 'Mon compte & Paramètres Paramètres de mon catalogue Comment masquer mes articles ?',\n",
       " 'Mon compte & Paramètres Paramètres de mon catalogue Est-ce que Vinted peut utiliser mes photos ?',\n",
       " 'Mon compte & Paramètres Paramètres de mon catalogue Le mode vacances',\n",
       " 'Mon compte & Paramètres Paramètres de mon catalogue Pourquoi mon article a-t-il été masqué ou supprimé ?',\n",
       " 'Mon compte & Paramètres Paramètres de mon catalogue Comment paramétrer des réductions sur mon catalogue ?',\n",
       " 'Mon compte & Paramètres Détails du profil Comment remplir/modifier les informations de mon profil ?',\n",
       " 'Mon compte & Paramètres Détails du profil Confirme ton identité pour changer ton adresse e-mail',\n",
       " 'Mon compte & Paramètres Détails du profil Les informations de mon profil sont-elles visibles aux autres membres ?',\n",
       " 'Mon compte & Paramètres Détails du profil A quoi consiste la partie \"À propos de moi\" ?',\n",
       " 'Mon compte & Paramètres Détails du profil Le mode vacances',\n",
       " 'Mon compte & Paramètres Détails du profil Comment changer mon adresse e-mail ?',\n",
       " 'Mon compte & Paramètres Détails du profil Est-il possible de modifier mon identifiant ?',\n",
       " 'Mon compte & Paramètres Détails du profil Comment changer mon mot de passe ?',\n",
       " 'Mon compte & Paramètres Détails du profil Comment supprimer mon compte ?',\n",
       " 'Mon compte & Paramètres Détails du profil Comment faire vérifier mon compte avec Google/Facebook\\xa0?',\n",
       " 'Mon compte & Paramètres Paramètres des Paiements & Envois Comment modifier les modes de livraison ?',\n",
       " 'Mon compte & Paramètres Paramètres des Paiements & Envois Comment modifier mon adresse ?',\n",
       " 'Mon compte & Paramètres Paramètres des Paiements & Envois Ajouter/modifier une carte de crédit',\n",
       " 'Mon compte & Paramètres Paramètres des Paiements & Envois Comment modifier mes informations bancaires ?',\n",
       " 'Mon compte & Paramètres Paramètres des Paiements & Envois Utiliser PayPal sur Vinted',\n",
       " 'Mon compte & Paramètres Porte-monnaie Vinted En quoi consiste le porte-monnaie Vinted ?',\n",
       " 'Mon compte & Paramètres Porte-monnaie Vinted Comment activer mon porte-monnaie Vinted ?',\n",
       " 'Mon compte & Paramètres Personnalisation Comment personnaliser Vinted ?',\n",
       " 'Mon compte & Paramètres Personnalisation En quoi consiste la personnalisation ?',\n",
       " 'Mon compte & Paramètres Parrainages Comment inviter tes amis sur Vinted ?',\n",
       " 'Mon compte & Paramètres Notifications et e-mails Comment paramétrer les notifications push sur ton téléphone ?',\n",
       " 'Mon compte & Paramètres Notifications et e-mails Comment paramétrer mes notifications par e-mail ?',\n",
       " 'Mon compte & Paramètres Notifications et e-mails Abonne-toi aux recherches',\n",
       " 'Mon compte & Paramètres Notifications et e-mails Paramétrer mes notifications',\n",
       " 'Mon compte & Paramètres Pourquoi mon compte a-t-il été bloqué ?',\n",
       " 'Mon compte & Paramètres Comment résoudre un bug ?',\n",
       " 'Communauté Forum Règles du forum',\n",
       " 'Communauté Forum Comment créer un sujet sur le forum',\n",
       " 'Communauté Forum Comment poster anonymement ?',\n",
       " 'Communauté Forum Mes sujets sur le forum',\n",
       " 'Communauté Forum Pourquoi mon sujet/commentaire a-t-il été supprimé ?',\n",
       " 'Communauté Forum Comment signaler un contenu inapproprié sur le forum?',\n",
       " 'Communauté Les membres Comment signaler un membre ?',\n",
       " 'Communauté Les membres Comment inviter tes amis sur Vinted ?',\n",
       " 'Communauté Les membres Standards de la communauté Vinted',\n",
       " \"Communauté Les membres Pourquoi ai-je besoin d'abonnés ?\",\n",
       " 'Communauté Les membres Comment bloquer un autre membre ?',\n",
       " 'Se connecter Je me suis inscrit avec une mauvaise adresse e-mail',\n",
       " 'Se connecter Je n’ai pas de compte, mais je reçois des courriels de Vinted',\n",
       " \"Se connecter Comment s'inscrire sur Vinted ?\",\n",
       " 'Se connecter Tu n’arrives pas à te connecter à ton compte ?',\n",
       " 'Se connecter Pourquoi mon compte a-t-il été bloqué ?',\n",
       " 'Se connecter Pourquoi mon adresse IP a-t-elle été bloquée ?',\n",
       " 'Se connecter Comment changer mon mot de passe ?',\n",
       " \"Se connecter J’essaie de m'inscrire sur Vinted, mais mon adresse e-mail est prise\"]"
      ]
     },
     "execution_count": 38,
     "metadata": {},
     "output_type": "execute_result"
    }
   ],
   "source": [
    "liste_concat3 = concat_question(urls_nv3, liste_concat2)\n",
    "liste_concat3"
   ]
  },
  {
   "cell_type": "code",
   "execution_count": 32,
   "metadata": {},
   "outputs": [
    {
     "name": "stdout",
     "output_type": "stream",
     "text": [
      "216\n"
     ]
    },
    {
     "data": {
      "text/plain": [
       "52"
      ]
     },
     "execution_count": 32,
     "metadata": {},
     "output_type": "execute_result"
    }
   ],
   "source": [
    "print(len(urls_nv3))\n",
    "len(urls_nv_2)"
   ]
  },
  {
   "cell_type": "code",
   "execution_count": 39,
   "metadata": {},
   "outputs": [
    {
     "data": {
      "text/plain": [
       "221"
      ]
     },
     "execution_count": 39,
     "metadata": {},
     "output_type": "execute_result"
    }
   ],
   "source": [
    "len(liste_concat3)"
   ]
  },
  {
   "cell_type": "code",
   "execution_count": null,
   "metadata": {},
   "outputs": [],
   "source": [
    "# with open('concat_categories_nv4.txt', 'w') as f:\n",
    "#     for question in liste_concat3:\n",
    "#         f.write(f'{str(question)}|#|')"
   ]
  },
  {
   "cell_type": "code",
   "execution_count": 2,
   "metadata": {},
   "outputs": [],
   "source": [
    "liste_concat3 = open(\"concat_categories_nv4.txt\", \"r\")\n",
    "liste_concat3 = liste_concat3.read().split(\"|#|\")\n",
    "liste_concat3 = liste_concat3[:-1]"
   ]
  },
  {
   "cell_type": "code",
   "execution_count": null,
   "metadata": {},
   "outputs": [],
   "source": []
  },
  {
   "cell_type": "code",
   "execution_count": 2,
   "metadata": {},
   "outputs": [
    {
     "data": {
      "text/plain": [
       "221"
      ]
     },
     "execution_count": 2,
     "metadata": {},
     "output_type": "execute_result"
    }
   ],
   "source": [
    "len(liste_concat3)"
   ]
  }
 ],
 "metadata": {
  "kernelspec": {
   "display_name": "Python 3",
   "language": "python",
   "name": "python3"
  },
  "language_info": {
   "codemirror_mode": {
    "name": "ipython",
    "version": 3
   },
   "file_extension": ".py",
   "mimetype": "text/x-python",
   "name": "python",
   "nbconvert_exporter": "python",
   "pygments_lexer": "ipython3",
   "version": "3.7.4"
  }
 },
 "nbformat": 4,
 "nbformat_minor": 4
}
